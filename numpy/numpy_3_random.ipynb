{
  "nbformat": 4,
  "nbformat_minor": 0,
  "metadata": {
    "colab": {
      "name": "numpy_3_random.ipynb",
      "provenance": [],
      "collapsed_sections": [],
      "include_colab_link": true
    },
    "kernelspec": {
      "name": "python3",
      "display_name": "Python 3"
    }
  },
  "cells": [
    {
      "cell_type": "markdown",
      "metadata": {
        "id": "view-in-github",
        "colab_type": "text"
      },
      "source": [
        "<a href=\"https://colab.research.google.com/github/loosiu/pdm14/blob/main/numpy/numpy_3_random.ipynb\" target=\"_parent\"><img src=\"https://colab.research.google.com/assets/colab-badge.svg\" alt=\"Open In Colab\"/></a>"
      ]
    },
    {
      "cell_type": "markdown",
      "metadata": {
        "id": "_zrirXHfgmyY"
      },
      "source": [
        "# numpy\n",
        "## random 서브모듈\n",
        "> [데이터싸이언스 스쿨:난수발생](https://datascienceschool.net/01%20python/03.05%20%EB%82%9C%EC%88%98%20%EB%B0%9C%EC%83%9D%EA%B3%BC%20%EC%B9%B4%EC%9A%B4%ED%8C%85.html)"
      ]
    },
    {
      "cell_type": "code",
      "metadata": {
        "id": "kQbzzSMZG2PX"
      },
      "source": [
        "import numpy as np"
      ],
      "execution_count": 2,
      "outputs": []
    },
    {
      "cell_type": "markdown",
      "metadata": {
        "id": "1Ry0YHkNFis5"
      },
      "source": [
        "## 난수 생성\n",
        "> NumPy의 random 서브모듈은 난수를 생성하는 다양한 명령을 제공.\n",
        "\n",
        "- rand: 0부터 1사이의 균일 분포 (uniform distribution)\n",
        "- randn: 가우시안 표준 정규 분포 (normal distribution, Gaussian)\n",
        "- randint: 균일 분포의 정수 난수 (uniform int)\n",
        "\n",
        "> randn()은 평균 0, 표준편차 1 인 가우시안 정규분포를 생성."
      ]
    },
    {
      "cell_type": "markdown",
      "metadata": {
        "id": "CtO1VxvurziR"
      },
      "source": [
        "### rand: 0부터 1사이의 균일 분포 (uniform distribution)"
      ]
    },
    {
      "cell_type": "code",
      "metadata": {
        "id": "LA1oF6aEG7kJ",
        "colab": {
          "base_uri": "https://localhost:8080/"
        },
        "outputId": "93862113-8fd0-4b4c-ad40-e6a6b3b30cb3"
      },
      "source": [
        "np.random.rand(5)"
      ],
      "execution_count": 3,
      "outputs": [
        {
          "output_type": "execute_result",
          "data": {
            "text/plain": [
              "array([0.76611246, 0.24616138, 0.38086562, 0.06778236, 0.21979126])"
            ]
          },
          "metadata": {},
          "execution_count": 3
        }
      ]
    },
    {
      "cell_type": "code",
      "metadata": {
        "id": "H6f4ix3NHCyR",
        "colab": {
          "base_uri": "https://localhost:8080/"
        },
        "outputId": "d966d974-911c-4730-d26b-a0884e185d18"
      },
      "source": [
        "np.random.rand(5)"
      ],
      "execution_count": 4,
      "outputs": [
        {
          "output_type": "execute_result",
          "data": {
            "text/plain": [
              "array([0.29588889, 0.68807116, 0.99121917, 0.28607484, 0.2670702 ])"
            ]
          },
          "metadata": {},
          "execution_count": 4
        }
      ]
    },
    {
      "cell_type": "markdown",
      "metadata": {
        "id": "c88F6gf8r4K2"
      },
      "source": [
        "### randn: 가우시안 표준 정규 분포 (normal distribution, Gaussian)"
      ]
    },
    {
      "cell_type": "code",
      "metadata": {
        "id": "rtVfCL-uP2Tw",
        "colab": {
          "base_uri": "https://localhost:8080/"
        },
        "outputId": "35d5e567-8268-4531-edfe-8e438da498a2"
      },
      "source": [
        "np.random.randn(5)"
      ],
      "execution_count": 5,
      "outputs": [
        {
          "output_type": "execute_result",
          "data": {
            "text/plain": [
              "array([-0.27645206, -0.16079238,  0.56202495, -0.10035102,  0.21374852])"
            ]
          },
          "metadata": {},
          "execution_count": 5
        }
      ]
    },
    {
      "cell_type": "code",
      "metadata": {
        "colab": {
          "base_uri": "https://localhost:8080/"
        },
        "id": "xJz-scLZ1eeg",
        "outputId": "5429dac4-b611-4340-f74e-b71951ba6114"
      },
      "source": [
        "np.random.randn(5)"
      ],
      "execution_count": 6,
      "outputs": [
        {
          "output_type": "execute_result",
          "data": {
            "text/plain": [
              "array([ 1.13034329,  0.46784125, -0.07686239, -0.828459  , -0.14892409])"
            ]
          },
          "metadata": {},
          "execution_count": 6
        }
      ]
    },
    {
      "cell_type": "markdown",
      "metadata": {
        "id": "wsvTzTFSsBSJ"
      },
      "source": [
        "### randint: 균일 분포의 정수 난수 (uniform int)\n",
        "- numpy.random.randint(low, high=None, size=None, dtype='l')"
      ]
    },
    {
      "cell_type": "code",
      "metadata": {
        "id": "WSvAH8uVs2Vb",
        "colab": {
          "base_uri": "https://localhost:8080/"
        },
        "outputId": "aa2fbc52-77fc-44ee-b4d6-d7c643aae51d"
      },
      "source": [
        "np.random.randint(5)"
      ],
      "execution_count": 7,
      "outputs": [
        {
          "output_type": "execute_result",
          "data": {
            "text/plain": [
              "4"
            ]
          },
          "metadata": {},
          "execution_count": 7
        }
      ]
    },
    {
      "cell_type": "code",
      "metadata": {
        "colab": {
          "base_uri": "https://localhost:8080/"
        },
        "id": "ELiN9rox2BHH",
        "outputId": "2b65f8d2-43d6-4f92-b9bb-648c26699538"
      },
      "source": [
        "#dice number\n",
        "np.random.randint(1,7) "
      ],
      "execution_count": 8,
      "outputs": [
        {
          "output_type": "execute_result",
          "data": {
            "text/plain": [
              "4"
            ]
          },
          "metadata": {},
          "execution_count": 8
        }
      ]
    },
    {
      "cell_type": "code",
      "metadata": {
        "id": "McWHW15uQDPr",
        "colab": {
          "base_uri": "https://localhost:8080/"
        },
        "outputId": "6063190f-5e42-4a3b-82d0-45ab73392f62"
      },
      "source": [
        "np.random.randint(5,9) "
      ],
      "execution_count": 9,
      "outputs": [
        {
          "output_type": "execute_result",
          "data": {
            "text/plain": [
              "5"
            ]
          },
          "metadata": {},
          "execution_count": 9
        }
      ]
    },
    {
      "cell_type": "code",
      "metadata": {
        "id": "oBsWu9FmQQSC",
        "colab": {
          "base_uri": "https://localhost:8080/"
        },
        "outputId": "d0e8d082-aa78-4ebd-ba3b-434166f1a83a"
      },
      "source": [
        "np.random.randint(0,10,5)"
      ],
      "execution_count": 10,
      "outputs": [
        {
          "output_type": "execute_result",
          "data": {
            "text/plain": [
              "array([1, 5, 0, 5, 7])"
            ]
          },
          "metadata": {},
          "execution_count": 10
        }
      ]
    },
    {
      "cell_type": "code",
      "metadata": {
        "id": "0kNuJxjaQYEu",
        "colab": {
          "base_uri": "https://localhost:8080/"
        },
        "outputId": "44a33740-ef1b-4a5e-f8de-03add1d409d1"
      },
      "source": [
        "np.random.randint(0,10,5)"
      ],
      "execution_count": 11,
      "outputs": [
        {
          "output_type": "execute_result",
          "data": {
            "text/plain": [
              "array([9, 2, 3, 7, 1])"
            ]
          },
          "metadata": {},
          "execution_count": 11
        }
      ]
    },
    {
      "cell_type": "markdown",
      "metadata": {
        "id": "K58DiNYUmANL"
      },
      "source": [
        "---"
      ]
    },
    {
      "cell_type": "markdown",
      "metadata": {
        "id": "xU5NWjQ3F_ld"
      },
      "source": [
        "## 난수 생성 seed 설정\n",
        "- numpy.random.seed(seed=None)\n",
        "- np.random.seed(number)"
      ]
    },
    {
      "cell_type": "code",
      "metadata": {
        "id": "AxUeYmQSQawG"
      },
      "source": [
        "np.random.seed()"
      ],
      "execution_count": 12,
      "outputs": []
    },
    {
      "cell_type": "code",
      "metadata": {
        "id": "C33YjKqvRJ33",
        "colab": {
          "base_uri": "https://localhost:8080/"
        },
        "outputId": "6286a8a6-a8c1-4ad9-9453-e84b503d3cee"
      },
      "source": [
        "np.random.rand(5)"
      ],
      "execution_count": 13,
      "outputs": [
        {
          "output_type": "execute_result",
          "data": {
            "text/plain": [
              "array([0.37707406, 0.4623528 , 0.68107203, 0.86686671, 0.81110157])"
            ]
          },
          "metadata": {},
          "execution_count": 13
        }
      ]
    },
    {
      "cell_type": "code",
      "metadata": {
        "id": "Ne8rIyN9RO81",
        "colab": {
          "base_uri": "https://localhost:8080/"
        },
        "outputId": "5c38e659-7be7-4f0f-d37c-feddd20d7a77"
      },
      "source": [
        "np.random.rand(5)"
      ],
      "execution_count": 14,
      "outputs": [
        {
          "output_type": "execute_result",
          "data": {
            "text/plain": [
              "array([0.04848332, 0.54372468, 0.74573461, 0.80654588, 0.54035279])"
            ]
          },
          "metadata": {},
          "execution_count": 14
        }
      ]
    },
    {
      "cell_type": "markdown",
      "metadata": {
        "id": "wnQ4gFoltu81"
      },
      "source": [
        "### 동일한 무작위수 생성\n",
        "- seed를 고정하고 무작위수 생성"
      ]
    },
    {
      "cell_type": "code",
      "metadata": {
        "id": "LGPOJGfgRSWx"
      },
      "source": [
        "np.random.seed(1234)"
      ],
      "execution_count": 15,
      "outputs": []
    },
    {
      "cell_type": "code",
      "metadata": {
        "id": "t2PNRUpfRXZk",
        "colab": {
          "base_uri": "https://localhost:8080/"
        },
        "outputId": "1c189b67-222c-4b44-f3c5-b0b07e654332"
      },
      "source": [
        "np.random.rand(5)"
      ],
      "execution_count": 16,
      "outputs": [
        {
          "output_type": "execute_result",
          "data": {
            "text/plain": [
              "array([0.19151945, 0.62210877, 0.43772774, 0.78535858, 0.77997581])"
            ]
          },
          "metadata": {},
          "execution_count": 16
        }
      ]
    },
    {
      "cell_type": "code",
      "metadata": {
        "id": "x8yKednV8CZy",
        "colab": {
          "base_uri": "https://localhost:8080/"
        },
        "outputId": "456cae00-a289-4f23-951d-75d6e60aaa48"
      },
      "source": [
        "np.random.rand(5)"
      ],
      "execution_count": 17,
      "outputs": [
        {
          "output_type": "execute_result",
          "data": {
            "text/plain": [
              "array([0.27259261, 0.27646426, 0.80187218, 0.95813935, 0.87593263])"
            ]
          },
          "metadata": {},
          "execution_count": 17
        }
      ]
    },
    {
      "cell_type": "code",
      "metadata": {
        "id": "bo2A_ntYRcKw"
      },
      "source": [
        "np.random.seed(1234)"
      ],
      "execution_count": 18,
      "outputs": []
    },
    {
      "cell_type": "code",
      "metadata": {
        "id": "U5qXdwYQRYeT",
        "outputId": "72bc720f-a525-4c2f-a095-11165ca8e8d5",
        "colab": {
          "base_uri": "https://localhost:8080/"
        }
      },
      "source": [
        "np.random.rand(5)"
      ],
      "execution_count": 19,
      "outputs": [
        {
          "output_type": "execute_result",
          "data": {
            "text/plain": [
              "array([0.19151945, 0.62210877, 0.43772774, 0.78535858, 0.77997581])"
            ]
          },
          "metadata": {},
          "execution_count": 19
        }
      ]
    },
    {
      "cell_type": "markdown",
      "metadata": {
        "id": "pwMXGAwmRhpW"
      },
      "source": [
        "### seed 고정 후에 randint(5)"
      ]
    },
    {
      "cell_type": "code",
      "metadata": {
        "id": "tqmTOMMVRhGW",
        "colab": {
          "base_uri": "https://localhost:8080/"
        },
        "outputId": "46800a4a-545e-4977-8442-62b32ba5c818"
      },
      "source": [
        "np.random.seed(5678)\n",
        "np.random.randint(1,10,5)"
      ],
      "execution_count": null,
      "outputs": [
        {
          "output_type": "execute_result",
          "data": {
            "text/plain": [
              "array([5, 8, 3, 5, 4])"
            ]
          },
          "metadata": {},
          "execution_count": 27
        }
      ]
    },
    {
      "cell_type": "code",
      "metadata": {
        "id": "YxQYjcOLSA-Z",
        "colab": {
          "base_uri": "https://localhost:8080/"
        },
        "outputId": "2aa42e1e-3de8-400f-ac43-7861aca836d9"
      },
      "source": [
        "np.random.randint(1,10,5)"
      ],
      "execution_count": null,
      "outputs": [
        {
          "output_type": "execute_result",
          "data": {
            "text/plain": [
              "array([6, 3, 7, 4, 1])"
            ]
          },
          "metadata": {},
          "execution_count": 28
        }
      ]
    },
    {
      "cell_type": "code",
      "metadata": {
        "id": "aQYF5QpGSD6p",
        "colab": {
          "base_uri": "https://localhost:8080/"
        },
        "outputId": "2457180f-0785-42bc-c74a-48213f044b6a"
      },
      "source": [
        "np.random.seed(5678)\n",
        "np.random.randint(1,10,5)"
      ],
      "execution_count": null,
      "outputs": [
        {
          "output_type": "execute_result",
          "data": {
            "text/plain": [
              "array([5, 8, 3, 5, 4])"
            ]
          },
          "metadata": {},
          "execution_count": 29
        }
      ]
    },
    {
      "cell_type": "code",
      "metadata": {
        "id": "cfIhMEcVSGKa",
        "colab": {
          "base_uri": "https://localhost:8080/"
        },
        "outputId": "4c5748cf-3476-4020-c0f0-592fa681497c"
      },
      "source": [
        "np.random.seed(5678)\n",
        "np.random.randint(1,10,5)"
      ],
      "execution_count": null,
      "outputs": [
        {
          "output_type": "execute_result",
          "data": {
            "text/plain": [
              "array([5, 8, 3, 5, 4])"
            ]
          },
          "metadata": {},
          "execution_count": 30
        }
      ]
    },
    {
      "cell_type": "code",
      "metadata": {
        "id": "Ik9a-QkcfLwy",
        "colab": {
          "base_uri": "https://localhost:8080/"
        },
        "outputId": "3a847c4a-d28e-4848-b656-ed3e7948a743"
      },
      "source": [
        "# seed 변경\n",
        "np.random.seed(0)\n",
        "np.random.randint(1,10,5)"
      ],
      "execution_count": null,
      "outputs": [
        {
          "output_type": "execute_result",
          "data": {
            "text/plain": [
              "array([6, 1, 4, 4, 8])"
            ]
          },
          "metadata": {},
          "execution_count": 31
        }
      ]
    },
    {
      "cell_type": "markdown",
      "metadata": {
        "id": "Zg3g31drmDMI"
      },
      "source": [
        "---\n",
        "---"
      ]
    },
    {
      "cell_type": "markdown",
      "metadata": {
        "id": "YNVh_pbhfROq"
      },
      "source": [
        "## DIY: 도전 코딩 - numpy 정리 과제\n",
        "- 생성된 마구잡이수를 조사하고 사용하기 \n",
        "- 9월19일 자정 마감."
      ]
    },
    {
      "cell_type": "markdown",
      "metadata": {
        "id": "vxNHFDSIgMmC"
      },
      "source": [
        "### [도전 1.] 0부터 9까지의 마구잡이 정수를 1000개 만들고 각 수의 빈도를 구하시오. "
      ]
    },
    {
      "cell_type": "code",
      "metadata": {
        "id": "qkDfXH1xgjBz",
        "colab": {
          "base_uri": "https://localhost:8080/"
        },
        "outputId": "6f0e8ed3-fc7c-4748-df15-427af5e983db"
      },
      "source": [
        "# n1000=\n",
        "n1000 = np.random.randint(0,10,1000)\n",
        "n1000"
      ],
      "execution_count": null,
      "outputs": [
        {
          "output_type": "execute_result",
          "data": {
            "text/plain": [
              "array([1, 4, 6, 0, 6, 6, 2, 8, 6, 6, 5, 2, 5, 0, 3, 9, 9, 7, 0, 4, 1, 3,\n",
              "       5, 7, 6, 2, 7, 3, 4, 9, 7, 0, 0, 1, 8, 3, 5, 0, 1, 1, 3, 7, 9, 3,\n",
              "       7, 0, 2, 4, 4, 6, 0, 1, 7, 6, 5, 5, 7, 3, 6, 8, 8, 2, 1, 0, 8, 7,\n",
              "       7, 0, 4, 8, 0, 4, 5, 7, 2, 4, 9, 7, 5, 0, 4, 9, 4, 0, 2, 5, 5, 3,\n",
              "       0, 0, 1, 9, 9, 2, 1, 0, 1, 6, 3, 4, 3, 6, 4, 2, 3, 6, 3, 3, 8, 1,\n",
              "       3, 3, 1, 5, 3, 6, 4, 8, 5, 7, 1, 8, 2, 0, 0, 4, 2, 1, 2, 2, 3, 4,\n",
              "       7, 5, 1, 3, 1, 0, 1, 4, 0, 2, 1, 3, 1, 4, 7, 5, 6, 9, 2, 5, 2, 2,\n",
              "       1, 3, 8, 3, 0, 7, 3, 8, 2, 4, 3, 1, 6, 5, 8, 4, 3, 6, 5, 3, 7, 8,\n",
              "       8, 3, 7, 8, 5, 7, 2, 7, 8, 0, 7, 4, 8, 4, 4, 0, 4, 8, 0, 0, 4, 7,\n",
              "       3, 7, 7, 2, 2, 1, 7, 0, 7, 5, 9, 7, 1, 1, 2, 4, 1, 4, 5, 8, 2, 1,\n",
              "       6, 3, 0, 3, 9, 5, 1, 3, 7, 1, 1, 7, 9, 4, 2, 0, 3, 2, 4, 0, 0, 9,\n",
              "       3, 8, 3, 0, 4, 4, 0, 2, 5, 5, 8, 2, 7, 3, 6, 1, 0, 2, 2, 5, 5, 1,\n",
              "       2, 8, 7, 3, 7, 3, 1, 0, 1, 0, 8, 8, 5, 3, 3, 1, 0, 6, 1, 6, 9, 5,\n",
              "       7, 0, 1, 4, 9, 5, 1, 6, 5, 4, 4, 4, 7, 2, 2, 6, 5, 3, 0, 8, 8, 1,\n",
              "       8, 7, 5, 7, 9, 4, 0, 7, 2, 3, 9, 5, 4, 0, 4, 5, 8, 1, 4, 8, 0, 1,\n",
              "       1, 8, 9, 4, 9, 0, 3, 0, 7, 0, 8, 1, 2, 8, 5, 8, 2, 1, 3, 5, 0, 2,\n",
              "       5, 8, 6, 2, 7, 7, 1, 8, 4, 9, 3, 3, 2, 9, 0, 4, 6, 4, 3, 2, 3, 1,\n",
              "       1, 2, 7, 2, 7, 0, 1, 8, 0, 5, 2, 8, 0, 4, 0, 3, 8, 1, 6, 4, 6, 9,\n",
              "       6, 4, 7, 2, 9, 8, 0, 8, 6, 2, 6, 9, 5, 3, 7, 8, 3, 8, 8, 9, 9, 4,\n",
              "       4, 1, 0, 7, 6, 2, 1, 0, 6, 1, 6, 7, 1, 5, 2, 0, 2, 6, 6, 3, 5, 4,\n",
              "       7, 3, 2, 6, 9, 1, 5, 1, 9, 3, 1, 0, 7, 3, 9, 6, 4, 4, 3, 5, 4, 4,\n",
              "       9, 0, 0, 9, 5, 0, 6, 3, 8, 9, 6, 2, 1, 7, 7, 6, 7, 5, 9, 8, 8, 1,\n",
              "       4, 6, 4, 2, 7, 8, 5, 7, 9, 9, 6, 9, 9, 3, 9, 3, 7, 2, 8, 1, 3, 2,\n",
              "       1, 7, 8, 7, 5, 7, 7, 1, 5, 6, 5, 8, 8, 1, 5, 2, 9, 5, 1, 8, 1, 7,\n",
              "       8, 5, 0, 1, 9, 5, 1, 4, 9, 8, 2, 8, 3, 3, 7, 4, 8, 3, 3, 1, 7, 5,\n",
              "       5, 7, 7, 3, 2, 1, 2, 9, 5, 8, 8, 8, 2, 2, 8, 4, 1, 1, 0, 2, 1, 7,\n",
              "       0, 2, 9, 3, 4, 9, 3, 0, 0, 6, 4, 3, 3, 1, 0, 7, 8, 6, 2, 8, 8, 9,\n",
              "       6, 4, 1, 8, 5, 4, 3, 5, 7, 6, 6, 9, 3, 3, 2, 7, 3, 9, 9, 5, 9, 8,\n",
              "       3, 8, 5, 9, 0, 7, 0, 1, 6, 6, 4, 5, 7, 6, 0, 1, 6, 6, 4, 2, 2, 4,\n",
              "       4, 3, 1, 0, 6, 6, 0, 9, 8, 9, 5, 2, 9, 8, 4, 4, 0, 2, 5, 7, 7, 1,\n",
              "       3, 2, 0, 3, 2, 2, 2, 3, 5, 1, 7, 5, 3, 9, 3, 0, 6, 3, 6, 9, 5, 1,\n",
              "       9, 3, 3, 9, 7, 8, 4, 7, 8, 9, 4, 1, 5, 0, 3, 6, 3, 0, 3, 6, 9, 5,\n",
              "       1, 7, 3, 4, 7, 0, 3, 5, 6, 6, 7, 4, 7, 2, 0, 1, 6, 5, 9, 4, 8, 7,\n",
              "       8, 6, 1, 4, 8, 5, 1, 6, 2, 7, 5, 7, 9, 6, 6, 3, 9, 9, 3, 4, 4, 1,\n",
              "       3, 9, 5, 1, 9, 7, 5, 4, 2, 0, 8, 7, 1, 1, 1, 9, 7, 4, 8, 6, 1, 2,\n",
              "       8, 4, 7, 9, 8, 8, 3, 2, 5, 6, 4, 5, 7, 9, 0, 3, 5, 5, 7, 8, 0, 2,\n",
              "       6, 5, 1, 5, 1, 9, 2, 3, 0, 3, 0, 1, 2, 2, 3, 4, 5, 8, 5, 1, 6, 1,\n",
              "       9, 6, 1, 5, 6, 2, 2, 9, 2, 8, 6, 3, 4, 1, 6, 6, 8, 8, 8, 5, 2, 2,\n",
              "       5, 9, 5, 4, 1, 1, 8, 8, 3, 0, 9, 2, 9, 3, 6, 4, 7, 5, 5, 3, 8, 7,\n",
              "       1, 7, 5, 4, 0, 5, 7, 8, 1, 6, 6, 9, 0, 2, 8, 6, 6, 3, 4, 4, 4, 1,\n",
              "       4, 3, 8, 9, 2, 1, 7, 8, 3, 3, 9, 0, 7, 7, 5, 3, 7, 8, 5, 5, 1, 7,\n",
              "       6, 1, 8, 1, 2, 0, 2, 4, 4, 8, 4, 7, 5, 2, 3, 0, 7, 9, 6, 9, 8, 1,\n",
              "       7, 6, 8, 4, 3, 5, 2, 0, 1, 4, 0, 5, 8, 3, 9, 1, 5, 9, 0, 8, 1, 6,\n",
              "       9, 7, 1, 4, 9, 8, 6, 7, 5, 7, 8, 5, 1, 4, 7, 8, 7, 7, 9, 9, 0, 6,\n",
              "       3, 7, 2, 6, 3, 5, 8, 9, 5, 0, 6, 9, 1, 4, 7, 5, 2, 6, 4, 7, 3, 6,\n",
              "       7, 0, 6, 4, 2, 3, 2, 0, 9, 5])"
            ]
          },
          "metadata": {},
          "execution_count": 33
        }
      ]
    },
    {
      "cell_type": "code",
      "metadata": {
        "id": "9_6nzbQD3FZi",
        "colab": {
          "base_uri": "https://localhost:8080/"
        },
        "outputId": "360b8f42-b682-4df8-9835-dbbd5f5b557c"
      },
      "source": [
        "np.unique(n1000)"
      ],
      "execution_count": null,
      "outputs": [
        {
          "output_type": "execute_result",
          "data": {
            "text/plain": [
              "array([0, 1, 2, 3, 4, 5, 6, 7, 8, 9])"
            ]
          },
          "metadata": {},
          "execution_count": 34
        }
      ]
    },
    {
      "cell_type": "code",
      "metadata": {
        "id": "eiw9R1243Rzp"
      },
      "source": [
        "# 각 수의 빈도"
      ],
      "execution_count": null,
      "outputs": []
    },
    {
      "cell_type": "markdown",
      "metadata": {
        "id": "cIhlY6-GghMN"
      },
      "source": [
        "### [도전 2.] 0부터 9까지의 마구잡이 정수를 1000개 만들고 각 수가 처음 출현하는 인덱스를 구하시오.\n",
        "> 0이 처음 나타날 때의 인덱스, 1이 처음 나타날 때의 인덱스, ... "
      ]
    },
    {
      "cell_type": "code",
      "metadata": {
        "colab": {
          "base_uri": "https://localhost:8080/"
        },
        "id": "_b1496395E33",
        "outputId": "6e0f2052-678d-4cc5-fefb-789554278088"
      },
      "source": [
        "n1000[0],n1000[800]"
      ],
      "execution_count": null,
      "outputs": [
        {
          "output_type": "execute_result",
          "data": {
            "text/plain": [
              "(1, 0)"
            ]
          },
          "metadata": {},
          "execution_count": 35
        }
      ]
    },
    {
      "cell_type": "code",
      "metadata": {
        "id": "oA1ec_RjgL3X"
      },
      "source": [
        "# 각 수가 처음 출현하는 인덱스"
      ],
      "execution_count": null,
      "outputs": []
    },
    {
      "cell_type": "code",
      "metadata": {
        "id": "yubibMMZ4AZS"
      },
      "source": [
        "# n1000[index]"
      ],
      "execution_count": null,
      "outputs": []
    },
    {
      "cell_type": "markdown",
      "metadata": {
        "id": "sadkRzWjgiTM"
      },
      "source": [
        "### [도전 3.] seed를 1234로 고정하고, 위의 도전1,2를 다시 해보시오. "
      ]
    },
    {
      "cell_type": "markdown",
      "metadata": {
        "id": "zAGojAainnox"
      },
      "source": [
        "### [도전 4.] 0부터 999까지의 마구잡이 정수로 구성되는 28X28 이차원배열을 만드시오.\n",
        "- 시드를 고정 : np.random.seed(1234)\n",
        "1. 각 행의 최대값, 최소갑을 구하시오.\n",
        "2. 배열 전체의 최대값, 최소값을 구하시오.\n",
        "3. 배열전체의 최대값, 최소값의 index를 각각 찾으시오."
      ]
    },
    {
      "cell_type": "markdown",
      "metadata": {
        "id": "VoSu8rNOnwPU"
      },
      "source": [
        "---\n",
        "---"
      ]
    },
    {
      "cell_type": "markdown",
      "metadata": {
        "id": "ozoCcRquhg4p"
      },
      "source": [
        "## python graphics\n",
        "- matplotlib\n",
        "> import matplotlib.pyplot as plt"
      ]
    },
    {
      "cell_type": "markdown",
      "metadata": {
        "id": "h6yEJiGJ4Lbk"
      },
      "source": [
        "### 무작위수 분포 그려보기"
      ]
    },
    {
      "cell_type": "code",
      "metadata": {
        "id": "ngcwuNlfhrIQ"
      },
      "source": [
        "import matplotlib.pyplot as plt"
      ],
      "execution_count": null,
      "outputs": []
    },
    {
      "cell_type": "code",
      "metadata": {
        "id": "jr30IHxvJDuE",
        "colab": {
          "base_uri": "https://localhost:8080/",
          "height": 319
        },
        "outputId": "0288a402-6510-4c4a-ddb5-4cdd74641e19"
      },
      "source": [
        "plt.hist(n1000,label=range(0,10), color='red')#, bins=100)\n",
        "# plt.show()"
      ],
      "execution_count": null,
      "outputs": [
        {
          "output_type": "execute_result",
          "data": {
            "text/plain": [
              "(array([ 94., 112.,  95., 110.,  98., 102.,  90., 109., 102.,  88.]),\n",
              " array([0. , 0.9, 1.8, 2.7, 3.6, 4.5, 5.4, 6.3, 7.2, 8.1, 9. ]),\n",
              " <a list of 10 Patch objects>)"
            ]
          },
          "metadata": {},
          "execution_count": 47
        },
        {
          "output_type": "display_data",
          "data": {
            "image/png": "[encoded data removed]",
            "text/plain": [
              "<Figure size 432x288 with 1 Axes>"
            ]
          },
          "metadata": {
            "needs_background": "light"
          }
        }
      ]
    },
    {
      "cell_type": "markdown",
      "metadata": {
        "id": "b-JcgSU-Ktyz"
      },
      "source": [
        "### [도전] 균일분포와 정규분포를 비교하는 그림을 그리시오."
      ]
    },
    {
      "cell_type": "code",
      "metadata": {
        "id": "k0XaT2f9JGZy",
        "colab": {
          "base_uri": "https://localhost:8080/",
          "height": 373
        },
        "outputId": "1f8717b2-ada6-4b4a-b667-0a9dd3ae1d39"
      },
      "source": [
        "plt.hist(np.random.rand(1000000))"
      ],
      "execution_count": null,
      "outputs": [
        {
          "output_type": "execute_result",
          "data": {
            "text/plain": [
              "(array([ 99968.,  99044., 100080., 100052.,  99583., 100421., 100061.,\n",
              "         99735., 100763., 100293.]),\n",
              " array([1.97600298e-06, 1.00001718e-01, 2.00001461e-01, 3.00001203e-01,\n",
              "        4.00000946e-01, 5.00000688e-01, 6.00000431e-01, 7.00000173e-01,\n",
              "        7.99999915e-01, 8.99999658e-01, 9.99999400e-01]),\n",
              " <a list of 10 Patch objects>)"
            ]
          },
          "metadata": {},
          "execution_count": 51
        },
        {
          "output_type": "display_data",
          "data": {
            "image/png": "[encoded data removed]",
            "text/plain": [
              "<Figure size 432x288 with 1 Axes>"
            ]
          },
          "metadata": {
            "needs_background": "light"
          }
        }
      ]
    },
    {
      "cell_type": "code",
      "metadata": {
        "id": "T8SCqKVeMhBF",
        "colab": {
          "base_uri": "https://localhost:8080/",
          "height": 661
        },
        "outputId": "41db2c19-4f01-47dd-b5d3-f47068a2c734"
      },
      "source": [
        "plt.hist(np.random.randn(1000000), bins=50)"
      ],
      "execution_count": null,
      "outputs": [
        {
          "output_type": "execute_result",
          "data": {
            "text/plain": [
              "(array([5.0000e+00, 4.0000e+00, 8.0000e+00, 1.0000e+01, 4.5000e+01,\n",
              "        8.1000e+01, 1.6000e+02, 2.9600e+02, 5.8400e+02, 1.0890e+03,\n",
              "        1.7720e+03, 2.9790e+03, 4.4780e+03, 7.0070e+03, 1.0271e+04,\n",
              "        1.4623e+04, 2.0198e+04, 2.6592e+04, 3.4388e+04, 4.2954e+04,\n",
              "        5.0842e+04, 5.9251e+04, 6.5915e+04, 7.1560e+04, 7.3911e+04,\n",
              "        7.4619e+04, 7.1615e+04, 6.8148e+04, 6.1405e+04, 5.3315e+04,\n",
              "        4.5306e+04, 3.7021e+04, 2.8778e+04, 2.1853e+04, 1.6321e+04,\n",
              "        1.1504e+04, 7.9550e+03, 5.2400e+03, 3.2900e+03, 1.9980e+03,\n",
              "        1.1460e+03, 6.8300e+02, 3.6000e+02, 2.0500e+02, 1.2200e+02,\n",
              "        4.8000e+01, 2.2000e+01, 1.1000e+01, 8.0000e+00, 4.0000e+00]),\n",
              " array([-4.71179704, -4.52446456, -4.33713208, -4.1497996 , -3.96246713,\n",
              "        -3.77513465, -3.58780217, -3.40046969, -3.21313721, -3.02580473,\n",
              "        -2.83847225, -2.65113977, -2.46380729, -2.27647481, -2.08914233,\n",
              "        -1.90180985, -1.71447737, -1.52714489, -1.33981241, -1.15247993,\n",
              "        -0.96514745, -0.77781497, -0.59048249, -0.40315001, -0.21581753,\n",
              "        -0.02848505,  0.15884743,  0.3461799 ,  0.53351238,  0.72084486,\n",
              "         0.90817734,  1.09550982,  1.2828423 ,  1.47017478,  1.65750726,\n",
              "         1.84483974,  2.03217222,  2.2195047 ,  2.40683718,  2.59416966,\n",
              "         2.78150214,  2.96883462,  3.1561671 ,  3.34349958,  3.53083206,\n",
              "         3.71816454,  3.90549702,  4.0928295 ,  4.28016198,  4.46749446,\n",
              "         4.65482693]),\n",
              " <a list of 50 Patch objects>)"
            ]
          },
          "metadata": {},
          "execution_count": 52
        },
        {
          "output_type": "display_data",
          "data": {
            "image/png": "[encoded data removed]",
            "text/plain": [
              "<Figure size 432x288 with 1 Axes>"
            ]
          },
          "metadata": {
            "needs_background": "light"
          }
        }
      ]
    },
    {
      "cell_type": "markdown",
      "metadata": {
        "id": "LYthn3089aqD"
      },
      "source": [
        "## 보충 코드"
      ]
    },
    {
      "cell_type": "code",
      "metadata": {
        "id": "BUkVDXTJMkwc",
        "colab": {
          "base_uri": "https://localhost:8080/"
        },
        "outputId": "d1fb33c1-889a-46f6-8e2a-15082c6ad8c6"
      },
      "source": [
        "n1000 = np.random.randint(0,10,1000)\n",
        "n1000"
      ],
      "execution_count": null,
      "outputs": [
        {
          "output_type": "execute_result",
          "data": {
            "text/plain": [
              "array([1, 4, 6, 0, 6, 6, 2, 8, 6, 6, 5, 2, 5, 0, 3, 9, 9, 7, 0, 4, 1, 3,\n",
              "       5, 7, 6, 2, 7, 3, 4, 9, 7, 0, 0, 1, 8, 3, 5, 0, 1, 1, 3, 7, 9, 3,\n",
              "       7, 0, 2, 4, 4, 6, 0, 1, 7, 6, 5, 5, 7, 3, 6, 8, 8, 2, 1, 0, 8, 7,\n",
              "       7, 0, 4, 8, 0, 4, 5, 7, 2, 4, 9, 7, 5, 0, 4, 9, 4, 0, 2, 5, 5, 3,\n",
              "       0, 0, 1, 9, 9, 2, 1, 0, 1, 6, 3, 4, 3, 6, 4, 2, 3, 6, 3, 3, 8, 1,\n",
              "       3, 3, 1, 5, 3, 6, 4, 8, 5, 7, 1, 8, 2, 0, 0, 4, 2, 1, 2, 2, 3, 4,\n",
              "       7, 5, 1, 3, 1, 0, 1, 4, 0, 2, 1, 3, 1, 4, 7, 5, 6, 9, 2, 5, 2, 2,\n",
              "       1, 3, 8, 3, 0, 7, 3, 8, 2, 4, 3, 1, 6, 5, 8, 4, 3, 6, 5, 3, 7, 8,\n",
              "       8, 3, 7, 8, 5, 7, 2, 7, 8, 0, 7, 4, 8, 4, 4, 0, 4, 8, 0, 0, 4, 7,\n",
              "       3, 7, 7, 2, 2, 1, 7, 0, 7, 5, 9, 7, 1, 1, 2, 4, 1, 4, 5, 8, 2, 1,\n",
              "       6, 3, 0, 3, 9, 5, 1, 3, 7, 1, 1, 7, 9, 4, 2, 0, 3, 2, 4, 0, 0, 9,\n",
              "       3, 8, 3, 0, 4, 4, 0, 2, 5, 5, 8, 2, 7, 3, 6, 1, 0, 2, 2, 5, 5, 1,\n",
              "       2, 8, 7, 3, 7, 3, 1, 0, 1, 0, 8, 8, 5, 3, 3, 1, 0, 6, 1, 6, 9, 5,\n",
              "       7, 0, 1, 4, 9, 5, 1, 6, 5, 4, 4, 4, 7, 2, 2, 6, 5, 3, 0, 8, 8, 1,\n",
              "       8, 7, 5, 7, 9, 4, 0, 7, 2, 3, 9, 5, 4, 0, 4, 5, 8, 1, 4, 8, 0, 1,\n",
              "       1, 8, 9, 4, 9, 0, 3, 0, 7, 0, 8, 1, 2, 8, 5, 8, 2, 1, 3, 5, 0, 2,\n",
              "       5, 8, 6, 2, 7, 7, 1, 8, 4, 9, 3, 3, 2, 9, 0, 4, 6, 4, 3, 2, 3, 1,\n",
              "       1, 2, 7, 2, 7, 0, 1, 8, 0, 5, 2, 8, 0, 4, 0, 3, 8, 1, 6, 4, 6, 9,\n",
              "       6, 4, 7, 2, 9, 8, 0, 8, 6, 2, 6, 9, 5, 3, 7, 8, 3, 8, 8, 9, 9, 4,\n",
              "       4, 1, 0, 7, 6, 2, 1, 0, 6, 1, 6, 7, 1, 5, 2, 0, 2, 6, 6, 3, 5, 4,\n",
              "       7, 3, 2, 6, 9, 1, 5, 1, 9, 3, 1, 0, 7, 3, 9, 6, 4, 4, 3, 5, 4, 4,\n",
              "       9, 0, 0, 9, 5, 0, 6, 3, 8, 9, 6, 2, 1, 7, 7, 6, 7, 5, 9, 8, 8, 1,\n",
              "       4, 6, 4, 2, 7, 8, 5, 7, 9, 9, 6, 9, 9, 3, 9, 3, 7, 2, 8, 1, 3, 2,\n",
              "       1, 7, 8, 7, 5, 7, 7, 1, 5, 6, 5, 8, 8, 1, 5, 2, 9, 5, 1, 8, 1, 7,\n",
              "       8, 5, 0, 1, 9, 5, 1, 4, 9, 8, 2, 8, 3, 3, 7, 4, 8, 3, 3, 1, 7, 5,\n",
              "       5, 7, 7, 3, 2, 1, 2, 9, 5, 8, 8, 8, 2, 2, 8, 4, 1, 1, 0, 2, 1, 7,\n",
              "       0, 2, 9, 3, 4, 9, 3, 0, 0, 6, 4, 3, 3, 1, 0, 7, 8, 6, 2, 8, 8, 9,\n",
              "       6, 4, 1, 8, 5, 4, 3, 5, 7, 6, 6, 9, 3, 3, 2, 7, 3, 9, 9, 5, 9, 8,\n",
              "       3, 8, 5, 9, 0, 7, 0, 1, 6, 6, 4, 5, 7, 6, 0, 1, 6, 6, 4, 2, 2, 4,\n",
              "       4, 3, 1, 0, 6, 6, 0, 9, 8, 9, 5, 2, 9, 8, 4, 4, 0, 2, 5, 7, 7, 1,\n",
              "       3, 2, 0, 3, 2, 2, 2, 3, 5, 1, 7, 5, 3, 9, 3, 0, 6, 3, 6, 9, 5, 1,\n",
              "       9, 3, 3, 9, 7, 8, 4, 7, 8, 9, 4, 1, 5, 0, 3, 6, 3, 0, 3, 6, 9, 5,\n",
              "       1, 7, 3, 4, 7, 0, 3, 5, 6, 6, 7, 4, 7, 2, 0, 1, 6, 5, 9, 4, 8, 7,\n",
              "       8, 6, 1, 4, 8, 5, 1, 6, 2, 7, 5, 7, 9, 6, 6, 3, 9, 9, 3, 4, 4, 1,\n",
              "       3, 9, 5, 1, 9, 7, 5, 4, 2, 0, 8, 7, 1, 1, 1, 9, 7, 4, 8, 6, 1, 2,\n",
              "       8, 4, 7, 9, 8, 8, 3, 2, 5, 6, 4, 5, 7, 9, 0, 3, 5, 5, 7, 8, 0, 2,\n",
              "       6, 5, 1, 5, 1, 9, 2, 3, 0, 3, 0, 1, 2, 2, 3, 4, 5, 8, 5, 1, 6, 1,\n",
              "       9, 6, 1, 5, 6, 2, 2, 9, 2, 8, 6, 3, 4, 1, 6, 6, 8, 8, 8, 5, 2, 2,\n",
              "       5, 9, 5, 4, 1, 1, 8, 8, 3, 0, 9, 2, 9, 3, 6, 4, 7, 5, 5, 3, 8, 7,\n",
              "       1, 7, 5, 4, 0, 5, 7, 8, 1, 6, 6, 9, 0, 2, 8, 6, 6, 3, 4, 4, 4, 1,\n",
              "       4, 3, 8, 9, 2, 1, 7, 8, 3, 3, 9, 0, 7, 7, 5, 3, 7, 8, 5, 5, 1, 7,\n",
              "       6, 1, 8, 1, 2, 0, 2, 4, 4, 8, 4, 7, 5, 2, 3, 0, 7, 9, 6, 9, 8, 1,\n",
              "       7, 6, 8, 4, 3, 5, 2, 0, 1, 4, 0, 5, 8, 3, 9, 1, 5, 9, 0, 8, 1, 6,\n",
              "       9, 7, 1, 4, 9, 8, 6, 7, 5, 7, 8, 5, 1, 4, 7, 8, 7, 7, 9, 9, 0, 6,\n",
              "       3, 7, 2, 6, 3, 5, 8, 9, 5, 0, 6, 9, 1, 4, 7, 5, 2, 6, 4, 7, 3, 6,\n",
              "       7, 0, 6, 4, 2, 3, 2, 0, 9, 5])"
            ]
          },
          "metadata": {},
          "execution_count": 36
        }
      ]
    },
    {
      "cell_type": "code",
      "metadata": {
        "id": "xza_yV8nMshU"
      },
      "source": [
        "value, count= np.unique(n1000, return_counts=True)"
      ],
      "execution_count": null,
      "outputs": []
    },
    {
      "cell_type": "code",
      "metadata": {
        "colab": {
          "base_uri": "https://localhost:8080/"
        },
        "id": "fnEkWWzc59qf",
        "outputId": "1d733c61-7f98-4b7f-9cc5-235f2cba71b5"
      },
      "source": [
        "value, count"
      ],
      "execution_count": null,
      "outputs": [
        {
          "output_type": "execute_result",
          "data": {
            "text/plain": [
              "(array([0, 1, 2, 3, 4, 5, 6, 7, 8, 9]),\n",
              " array([ 94, 112,  95, 110,  98, 102,  90, 109, 102,  88]))"
            ]
          },
          "metadata": {},
          "execution_count": 38
        }
      ]
    },
    {
      "cell_type": "code",
      "metadata": {
        "id": "al1pM1aK9Vk7"
      },
      "source": [
        ""
      ],
      "execution_count": null,
      "outputs": []
    }
  ]
}