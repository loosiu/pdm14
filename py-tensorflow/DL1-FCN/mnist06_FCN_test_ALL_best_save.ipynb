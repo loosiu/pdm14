{
  "nbformat": 4,
  "nbformat_minor": 0,
  "metadata": {
    "colab": {
      "name": "tf2_4_mnist_FCN_test_ALL_best_save.ipynb",
      "provenance": [],
      "collapsed_sections": [],
      "include_colab_link": true
    },
    "kernelspec": {
      "name": "python3",
      "display_name": "Python 3"
    },
    "accelerator": "GPU"
  },
  "cells": [
    {
      "cell_type": "markdown",
      "metadata": {
        "id": "view-in-github",
        "colab_type": "text"
      },
      "source": [
        "<a href=\"https://colab.research.google.com/github/loosiu/pdm14/blob/main/py-tensorflow/DL1-FCN/mnist06_FCN_test_ALL_best_save.ipynb\" target=\"_parent\"><img src=\"https://colab.research.google.com/assets/colab-badge.svg\" alt=\"Open In Colab\"/></a>"
      ]
    },
    {
      "cell_type": "markdown",
      "metadata": {
        "id": "eKScslg0Bk1E"
      },
      "source": [
        "## DNN (Deep Neural Networks) 구현 방법\n",
        "> - **Sequential model**\n",
        "> - Functional model\n",
        "> - Subclassing model"
      ]
    },
    {
      "cell_type": "markdown",
      "metadata": {
        "id": "rswfCVLZ-QW0"
      },
      "source": [
        "# **Test of mnist FCN model**\n",
        "## Sequential model\n",
        "- FCN3\n",
        "\n",
        "***\n",
        "\n",
        "![mnist_NN_2_layers](https://raw.githubusercontent.com/Redwoods/Py/master/pdm2020/my-note/py-tensorflow/images/mnist_NN_2_layers.png)"
      ]
    },
    {
      "cell_type": "code",
      "metadata": {
        "id": "8GgGzPXPVyfa",
        "colab": {
          "base_uri": "https://localhost:8080/"
        },
        "outputId": "242a6f5d-e00c-4e8b-98c2-5441615e3d68"
      },
      "source": [
        "import numpy as np\n",
        "import tensorflow as tf\n",
        "from tensorflow import keras\n",
        "import pandas as pd\n",
        "import matplotlib.pyplot as plt\n",
        "# %matplotlib inline\n",
        "\n",
        "print(tf.__version__)"
      ],
      "execution_count": null,
      "outputs": [
        {
          "output_type": "stream",
          "name": "stdout",
          "text": [
            "2.6.0\n"
          ]
        }
      ]
    },
    {
      "cell_type": "markdown",
      "metadata": {
        "id": "-0IOOUM14Jk1"
      },
      "source": [
        "## **데이터 로딩, 정규화**"
      ]
    },
    {
      "cell_type": "code",
      "metadata": {
        "id": "N1ogJ7I64Fz-",
        "colab": {
          "base_uri": "https://localhost:8080/"
        },
        "outputId": "7fc11c12-c2d1-440d-cc0a-7b0edd83b6a2"
      },
      "source": [
        "from keras.datasets import mnist\n",
        "\n",
        "(X_train, y_train), (X_test, y_test) = mnist.load_data()\n",
        "X_train, X_test = X_train/255.0, X_test/255.0 # 정규화\n",
        "\n",
        "print(\"X_train={0}\".format(X_train.shape))\n",
        "print(\"y_train={0}\".format(y_train.shape)) \n",
        "print(\"X_test={0}\".format(X_test.shape))\n",
        "print(\"y_test={0}\".format(y_test.shape))"
      ],
      "execution_count": null,
      "outputs": [
        {
          "output_type": "stream",
          "name": "stdout",
          "text": [
            "Downloading data from https://storage.googleapis.com/tensorflow/tf-keras-datasets/mnist.npz\n",
            "11493376/11490434 [==============================] - 0s 0us/step\n",
            "11501568/11490434 [==============================] - 0s 0us/step\n",
            "X_train=(60000, 28, 28)\n",
            "y_train=(60000,)\n",
            "X_test=(10000, 28, 28)\n",
            "y_test=(10000,)\n"
          ]
        }
      ]
    },
    {
      "cell_type": "code",
      "metadata": {
        "id": "F46-QZqJHiQ6"
      },
      "source": [
        "# One-Hot-Encoding\n",
        "# Use function to_categorical() to do One-Hot-Encoding\n",
        "# tf.keras.utils.to_categorical\n",
        "from tensorflow.keras.utils import to_categorical\n",
        "\n",
        "y_train = to_categorical(y_train, 10)\n",
        "y_test = to_categorical(y_test, 10)"
      ],
      "execution_count": null,
      "outputs": []
    },
    {
      "cell_type": "markdown",
      "metadata": {
        "id": "zYsilPV-d68h"
      },
      "source": [
        "## **FCN3**"
      ]
    },
    {
      "cell_type": "markdown",
      "metadata": {
        "id": "8cihsjLOK9-P"
      },
      "source": [
        "### Control of training process\n",
        "- EarlyStopping\n",
        "    - patience\n",
        "- ModelCheckpoint\n",
        "    > Save best model during training"
      ]
    },
    {
      "cell_type": "code",
      "metadata": {
        "id": "GheJZ2V_Krq6"
      },
      "source": [
        "from tensorflow.keras import callbacks\n",
        "# from callbacks import ModelCheckpoint, EarlyStopping"
      ],
      "execution_count": null,
      "outputs": []
    },
    {
      "cell_type": "code",
      "metadata": {
        "id": "RX59mbX4LmHY"
      },
      "source": [
        "mc_callback = callbacks.ModelCheckpoint(filepath=\"./mnist_fcn3_best_weights.{epoch:03d}-{val_accuracy:.3f}.hdf5\", \n",
        "                              monitor='val_accuracy', verbose=0, save_best_only=True)\n",
        "es_callback = callbacks.EarlyStopping(monitor='val_accuracy', \n",
        "                            mode='max', verbose=1, patience=20) "
      ],
      "execution_count": null,
      "outputs": []
    },
    {
      "cell_type": "code",
      "metadata": {
        "id": "ru3C9Fdb5MJ9"
      },
      "source": [
        "# set random number seed\n",
        "np.random.seed(1234)\n",
        "tf.random.set_seed(1234)\n",
        "\n",
        "fcn3 = tf.keras.models.Sequential([ \n",
        "    tf.keras.layers.Flatten(input_shape=(28, 28)),\n",
        "    tf.keras.layers.Dense(256, activation='relu'),  \n",
        "    tf.keras.layers.Dropout(0.25),\n",
        "    tf.keras.layers.Dense(128, activation='relu'),  \n",
        "    tf.keras.layers.Dropout(0.25), \n",
        "    tf.keras.layers.Dense(10, activation='softmax')\n",
        "])\n",
        "\n",
        "fcn3.compile(optimizer='adam',\n",
        "              loss='categorical_crossentropy',\n",
        "              metrics=['accuracy']) \n"
      ],
      "execution_count": null,
      "outputs": []
    },
    {
      "cell_type": "code",
      "metadata": {
        "id": "WUKcSnnc5XcD",
        "colab": {
          "base_uri": "https://localhost:8080/"
        },
        "outputId": "fa61ae41-e109-4c39-90a6-17dcd77b83cb"
      },
      "source": [
        "fcn3.summary()"
      ],
      "execution_count": null,
      "outputs": [
        {
          "output_type": "stream",
          "name": "stdout",
          "text": [
            "Model: \"sequential\"\n",
            "_________________________________________________________________\n",
            "Layer (type)                 Output Shape              Param #   \n",
            "=================================================================\n",
            "flatten (Flatten)            (None, 784)               0         \n",
            "_________________________________________________________________\n",
            "dense (Dense)                (None, 256)               200960    \n",
            "_________________________________________________________________\n",
            "dropout (Dropout)            (None, 256)               0         \n",
            "_________________________________________________________________\n",
            "dense_1 (Dense)              (None, 128)               32896     \n",
            "_________________________________________________________________\n",
            "dropout_1 (Dropout)          (None, 128)               0         \n",
            "_________________________________________________________________\n",
            "dense_2 (Dense)              (None, 10)                1290      \n",
            "=================================================================\n",
            "Total params: 235,146\n",
            "Trainable params: 235,146\n",
            "Non-trainable params: 0\n",
            "_________________________________________________________________\n"
          ]
        }
      ]
    },
    {
      "cell_type": "code",
      "metadata": {
        "id": "WHnUbwan5Zq7",
        "colab": {
          "base_uri": "https://localhost:8080/"
        },
        "outputId": "4e12f8bc-e967-4331-9a70-f17c8c47943f"
      },
      "source": [
        "# Training with callbacks\n",
        "hist = fcn3.fit(X_train,y_train, \n",
        "                epochs= 100 , \n",
        "                batch_size =100,\n",
        "                validation_data=(X_test,y_test),\n",
        "                callbacks=[mc_callback, es_callback])"
      ],
      "execution_count": null,
      "outputs": [
        {
          "output_type": "stream",
          "name": "stdout",
          "text": [
            "Epoch 1/100\n",
            "600/600 [==============================] - 2s 4ms/step - loss: 0.0163 - accuracy: 0.9947 - val_loss: 0.0844 - val_accuracy: 0.9831\n",
            "Epoch 2/100\n",
            "600/600 [==============================] - 2s 3ms/step - loss: 0.0160 - accuracy: 0.9947 - val_loss: 0.0868 - val_accuracy: 0.9837\n",
            "Epoch 3/100\n",
            "600/600 [==============================] - 2s 4ms/step - loss: 0.0167 - accuracy: 0.9948 - val_loss: 0.0845 - val_accuracy: 0.9832\n",
            "Epoch 4/100\n",
            "600/600 [==============================] - 2s 3ms/step - loss: 0.0133 - accuracy: 0.9959 - val_loss: 0.0801 - val_accuracy: 0.9842\n",
            "Epoch 5/100\n",
            "600/600 [==============================] - 2s 4ms/step - loss: 0.0152 - accuracy: 0.9951 - val_loss: 0.0957 - val_accuracy: 0.9823\n",
            "Epoch 6/100\n",
            "600/600 [==============================] - 2s 3ms/step - loss: 0.0140 - accuracy: 0.9955 - val_loss: 0.0859 - val_accuracy: 0.9837\n",
            "Epoch 7/100\n",
            "600/600 [==============================] - 2s 4ms/step - loss: 0.0130 - accuracy: 0.9960 - val_loss: 0.0866 - val_accuracy: 0.9830\n",
            "Epoch 8/100\n",
            "600/600 [==============================] - 2s 4ms/step - loss: 0.0156 - accuracy: 0.9949 - val_loss: 0.0946 - val_accuracy: 0.9830\n",
            "Epoch 9/100\n",
            "600/600 [==============================] - 2s 4ms/step - loss: 0.0138 - accuracy: 0.9955 - val_loss: 0.0847 - val_accuracy: 0.9829\n",
            "Epoch 10/100\n",
            "600/600 [==============================] - 2s 3ms/step - loss: 0.0157 - accuracy: 0.9949 - val_loss: 0.0916 - val_accuracy: 0.9820\n",
            "Epoch 11/100\n",
            "600/600 [==============================] - 2s 4ms/step - loss: 0.0161 - accuracy: 0.9948 - val_loss: 0.0958 - val_accuracy: 0.9812\n",
            "Epoch 12/100\n",
            "600/600 [==============================] - 2s 4ms/step - loss: 0.0158 - accuracy: 0.9952 - val_loss: 0.0835 - val_accuracy: 0.9841\n",
            "Epoch 13/100\n",
            "600/600 [==============================] - 2s 3ms/step - loss: 0.0111 - accuracy: 0.9961 - val_loss: 0.0800 - val_accuracy: 0.9845\n",
            "Epoch 14/100\n",
            "600/600 [==============================] - 2s 3ms/step - loss: 0.0142 - accuracy: 0.9955 - val_loss: 0.0916 - val_accuracy: 0.9840\n",
            "Epoch 15/100\n",
            "600/600 [==============================] - 2s 4ms/step - loss: 0.0136 - accuracy: 0.9959 - val_loss: 0.0918 - val_accuracy: 0.9822\n",
            "Epoch 16/100\n",
            "600/600 [==============================] - 2s 3ms/step - loss: 0.0138 - accuracy: 0.9957 - val_loss: 0.0950 - val_accuracy: 0.9830\n",
            "Epoch 17/100\n",
            "600/600 [==============================] - 2s 3ms/step - loss: 0.0150 - accuracy: 0.9954 - val_loss: 0.0890 - val_accuracy: 0.9838\n",
            "Epoch 18/100\n",
            "600/600 [==============================] - 2s 3ms/step - loss: 0.0137 - accuracy: 0.9957 - val_loss: 0.0851 - val_accuracy: 0.9839\n",
            "Epoch 19/100\n",
            "600/600 [==============================] - 2s 4ms/step - loss: 0.0132 - accuracy: 0.9962 - val_loss: 0.0916 - val_accuracy: 0.9831\n",
            "Epoch 20/100\n",
            "600/600 [==============================] - 2s 4ms/step - loss: 0.0138 - accuracy: 0.9956 - val_loss: 0.0927 - val_accuracy: 0.9849\n",
            "Epoch 21/100\n",
            "600/600 [==============================] - 2s 4ms/step - loss: 0.0127 - accuracy: 0.9960 - val_loss: 0.0939 - val_accuracy: 0.9830\n",
            "Epoch 22/100\n",
            "600/600 [==============================] - 2s 4ms/step - loss: 0.0125 - accuracy: 0.9959 - val_loss: 0.0964 - val_accuracy: 0.9831\n",
            "Epoch 23/100\n",
            "600/600 [==============================] - 2s 3ms/step - loss: 0.0124 - accuracy: 0.9962 - val_loss: 0.0969 - val_accuracy: 0.9846\n",
            "Epoch 24/100\n",
            "600/600 [==============================] - 2s 3ms/step - loss: 0.0114 - accuracy: 0.9962 - val_loss: 0.0946 - val_accuracy: 0.9851\n",
            "Epoch 25/100\n",
            "600/600 [==============================] - 2s 3ms/step - loss: 0.0135 - accuracy: 0.9962 - val_loss: 0.1007 - val_accuracy: 0.9832\n",
            "Epoch 26/100\n",
            "600/600 [==============================] - 2s 4ms/step - loss: 0.0135 - accuracy: 0.9958 - val_loss: 0.0955 - val_accuracy: 0.9842\n",
            "Epoch 27/100\n",
            "600/600 [==============================] - 2s 3ms/step - loss: 0.0138 - accuracy: 0.9955 - val_loss: 0.1042 - val_accuracy: 0.9823\n",
            "Epoch 28/100\n",
            "600/600 [==============================] - 2s 3ms/step - loss: 0.0120 - accuracy: 0.9961 - val_loss: 0.0972 - val_accuracy: 0.9836\n",
            "Epoch 29/100\n",
            "600/600 [==============================] - 2s 3ms/step - loss: 0.0132 - accuracy: 0.9959 - val_loss: 0.1017 - val_accuracy: 0.9828\n",
            "Epoch 30/100\n",
            "600/600 [==============================] - 2s 4ms/step - loss: 0.0115 - accuracy: 0.9961 - val_loss: 0.0953 - val_accuracy: 0.9840\n",
            "Epoch 31/100\n",
            "600/600 [==============================] - 2s 4ms/step - loss: 0.0109 - accuracy: 0.9965 - val_loss: 0.1078 - val_accuracy: 0.9833\n",
            "Epoch 32/100\n",
            "600/600 [==============================] - 2s 3ms/step - loss: 0.0144 - accuracy: 0.9956 - val_loss: 0.1007 - val_accuracy: 0.9836\n",
            "Epoch 33/100\n",
            "600/600 [==============================] - 2s 3ms/step - loss: 0.0109 - accuracy: 0.9966 - val_loss: 0.0941 - val_accuracy: 0.9851\n",
            "Epoch 34/100\n",
            "600/600 [==============================] - 2s 4ms/step - loss: 0.0105 - accuracy: 0.9967 - val_loss: 0.0952 - val_accuracy: 0.9852\n",
            "Epoch 35/100\n",
            "600/600 [==============================] - 2s 3ms/step - loss: 0.0112 - accuracy: 0.9966 - val_loss: 0.0963 - val_accuracy: 0.9851\n",
            "Epoch 36/100\n",
            "600/600 [==============================] - 2s 4ms/step - loss: 0.0148 - accuracy: 0.9957 - val_loss: 0.0962 - val_accuracy: 0.9829\n",
            "Epoch 37/100\n",
            "600/600 [==============================] - 2s 3ms/step - loss: 0.0122 - accuracy: 0.9958 - val_loss: 0.1025 - val_accuracy: 0.9829\n",
            "Epoch 38/100\n",
            "600/600 [==============================] - 2s 3ms/step - loss: 0.0127 - accuracy: 0.9962 - val_loss: 0.0978 - val_accuracy: 0.9838\n",
            "Epoch 39/100\n",
            "600/600 [==============================] - 2s 3ms/step - loss: 0.0106 - accuracy: 0.9966 - val_loss: 0.0986 - val_accuracy: 0.9834\n",
            "Epoch 40/100\n",
            "600/600 [==============================] - 2s 3ms/step - loss: 0.0114 - accuracy: 0.9964 - val_loss: 0.1105 - val_accuracy: 0.9830\n",
            "Epoch 41/100\n",
            "600/600 [==============================] - 2s 3ms/step - loss: 0.0111 - accuracy: 0.9966 - val_loss: 0.0949 - val_accuracy: 0.9853\n",
            "Epoch 42/100\n",
            "600/600 [==============================] - 2s 3ms/step - loss: 0.0119 - accuracy: 0.9965 - val_loss: 0.0934 - val_accuracy: 0.9847\n",
            "Epoch 43/100\n",
            "600/600 [==============================] - 2s 4ms/step - loss: 0.0120 - accuracy: 0.9964 - val_loss: 0.0980 - val_accuracy: 0.9834\n",
            "Epoch 44/100\n",
            "600/600 [==============================] - 2s 4ms/step - loss: 0.0134 - accuracy: 0.9961 - val_loss: 0.1093 - val_accuracy: 0.9832\n",
            "Epoch 45/100\n",
            "600/600 [==============================] - 2s 4ms/step - loss: 0.0104 - accuracy: 0.9968 - val_loss: 0.1063 - val_accuracy: 0.9833\n",
            "Epoch 46/100\n",
            "600/600 [==============================] - 2s 3ms/step - loss: 0.0113 - accuracy: 0.9963 - val_loss: 0.1046 - val_accuracy: 0.9833\n",
            "Epoch 47/100\n",
            "600/600 [==============================] - 2s 3ms/step - loss: 0.0109 - accuracy: 0.9967 - val_loss: 0.1167 - val_accuracy: 0.9823\n",
            "Epoch 48/100\n",
            "600/600 [==============================] - 2s 4ms/step - loss: 0.0124 - accuracy: 0.9965 - val_loss: 0.1115 - val_accuracy: 0.9839\n",
            "Epoch 49/100\n",
            "600/600 [==============================] - 2s 3ms/step - loss: 0.0117 - accuracy: 0.9967 - val_loss: 0.1053 - val_accuracy: 0.9826\n",
            "Epoch 50/100\n",
            "600/600 [==============================] - 2s 3ms/step - loss: 0.0108 - accuracy: 0.9966 - val_loss: 0.1042 - val_accuracy: 0.9836\n",
            "Epoch 51/100\n",
            "600/600 [==============================] - 2s 4ms/step - loss: 0.0110 - accuracy: 0.9966 - val_loss: 0.1122 - val_accuracy: 0.9833\n",
            "Epoch 52/100\n",
            "600/600 [==============================] - 2s 3ms/step - loss: 0.0096 - accuracy: 0.9968 - val_loss: 0.1042 - val_accuracy: 0.9826\n",
            "Epoch 53/100\n",
            "600/600 [==============================] - 2s 4ms/step - loss: 0.0112 - accuracy: 0.9967 - val_loss: 0.1194 - val_accuracy: 0.9826\n",
            "Epoch 54/100\n",
            "600/600 [==============================] - 2s 3ms/step - loss: 0.0120 - accuracy: 0.9964 - val_loss: 0.0978 - val_accuracy: 0.9850\n",
            "Epoch 56/100\n",
            "600/600 [==============================] - 2s 3ms/step - loss: 0.0101 - accuracy: 0.9969 - val_loss: 0.1025 - val_accuracy: 0.9836\n",
            "Epoch 57/100\n",
            "600/600 [==============================] - 2s 3ms/step - loss: 0.0094 - accuracy: 0.9971 - val_loss: 0.1083 - val_accuracy: 0.9828\n",
            "Epoch 58/100\n",
            "600/600 [==============================] - 2s 4ms/step - loss: 0.0103 - accuracy: 0.9967 - val_loss: 0.1136 - val_accuracy: 0.9826\n",
            "Epoch 59/100\n",
            "600/600 [==============================] - 2s 4ms/step - loss: 0.0113 - accuracy: 0.9969 - val_loss: 0.0963 - val_accuracy: 0.9834\n",
            "Epoch 60/100\n",
            "600/600 [==============================] - 2s 4ms/step - loss: 0.0101 - accuracy: 0.9968 - val_loss: 0.1041 - val_accuracy: 0.9833\n",
            "Epoch 61/100\n",
            "600/600 [==============================] - 2s 4ms/step - loss: 0.0106 - accuracy: 0.9967 - val_loss: 0.1150 - val_accuracy: 0.9823\n",
            "Epoch 00061: early stopping\n"
          ]
        }
      ]
    },
    {
      "cell_type": "code",
      "metadata": {
        "id": "kTaGJMFG7FbH",
        "colab": {
          "base_uri": "https://localhost:8080/"
        },
        "outputId": "a08c3512-7e8b-4fba-cee3-25955f0d220f"
      },
      "source": [
        "fcn3.evaluate(X_test, y_test, batch_size= 100)"
      ],
      "execution_count": null,
      "outputs": [
        {
          "output_type": "stream",
          "name": "stdout",
          "text": [
            "100/100 [==============================] - 0s 2ms/step - loss: 0.1150 - accuracy: 0.9823\n"
          ]
        },
        {
          "output_type": "execute_result",
          "data": {
            "text/plain": [
              "[0.11502458155155182, 0.9822999835014343]"
            ]
          },
          "metadata": {},
          "execution_count": 11
        }
      ]
    },
    {
      "cell_type": "code",
      "metadata": {
        "id": "cfm87VmlM7Pr",
        "colab": {
          "base_uri": "https://localhost:8080/",
          "height": 295
        },
        "outputId": "22355a8b-0b67-465e-ad34-51d725784855"
      },
      "source": [
        "# 훈련 데이터와 검증 데이터에 대한 loss 시각화.\n",
        "epochs = range(1, len(hist.history['loss']) + 1)\n",
        "\n",
        "loss_list = hist.history['loss'] #[100 * i for i in history.history['loss']]\n",
        "vloss_list = hist.history['val_loss'] #[100 * i for i in history.history['val_loss']]\n",
        "\n",
        "plt.plot(epochs,loss_list)  \n",
        "plt.plot(epochs,vloss_list)\n",
        "\n",
        "plt.plot(np.argmin(np.array(vloss_list))+1,vloss_list[np.argmin(np.array(vloss_list))], 'r*')\n",
        "plt.title('mnist: NN(FCN) model - val_loss, min:' + str(np.round(vloss_list[np.argmin(np.array(vloss_list))],2)))\n",
        "plt.ylabel('val-Loss (%)')\n",
        "plt.xlabel('Epoch')\n",
        "plt.legend(['loss','val_loss','best'], loc='best')\n",
        "plt.show()"
      ],
      "execution_count": null,
      "outputs": [
        {
          "output_type": "display_data",
          "data": {
            "image/png": "[encoded data removed]",
            "text/plain": [
              "<Figure size 432x288 with 1 Axes>"
            ]
          },
          "metadata": {
            "needs_background": "light"
          }
        }
      ]
    },
    {
      "cell_type": "code",
      "metadata": {
        "id": "lH4NQknvNBsE",
        "colab": {
          "base_uri": "https://localhost:8080/",
          "height": 295
        },
        "outputId": "ef1e6b04-6b4b-4abb-f88a-3eca473233bd"
      },
      "source": [
        "# 훈련 데이터와 검증 데이터에 대한 accuracy 시각화.\n",
        "epochs = range(1, len(hist.history['accuracy']) + 1)\n",
        "\n",
        "acc_list = [100 * i for i in hist.history['accuracy']]\n",
        "vacc_list = [100 * i for i in hist.history['val_accuracy']]\n",
        "\n",
        "plt.plot(epochs,acc_list)  \n",
        "plt.plot(epochs,vacc_list)\n",
        "\n",
        "plt.plot(np.argmax(np.array(vacc_list))+1,vacc_list[np.argmax(np.array(vacc_list))], 'r*')\n",
        "plt.title('mnist: NN(FCN) model - val_accuracy, max:' + str(np.round(vacc_list[np.argmax(np.array(vacc_list))],2)))\n",
        "plt.ylabel('val-Accuracy (%)')\n",
        "plt.xlabel('Epoch')\n",
        "plt.legend(['accuracy','val_accuracy','best'], loc='best')\n",
        "plt.show()"
      ],
      "execution_count": null,
      "outputs": [
        {
          "output_type": "display_data",
          "data": {
            "image/png": "[encoded data removed]",
            "text/plain": [
              "<Figure size 432x288 with 1 Axes>"
            ]
          },
          "metadata": {
            "needs_background": "light"
          }
        }
      ]
    },
    {
      "cell_type": "markdown",
      "metadata": {
        "id": "gBPKMI4y3fsa"
      },
      "source": [
        "## 모형의 재사용\n",
        "\n",
        "- 트레이닝 중 hdf5 형식으로 best model이 저장됨.\n",
        "- load 명령으로 불러 사용\n",
        "> best model: mnist_fcn3_best_weights.020-0.986.hdf5 \n",
        "\n",
        ">> mnist_fcn3_best_weights.044-0.985.hdf5 \n",
        "\n",
        ">> mnist_fcn3_best_weights.041-0.985.hdf5"
      ]
    },
    {
      "cell_type": "code",
      "metadata": {
        "id": "b7-ysIVy3fse",
        "colab": {
          "base_uri": "https://localhost:8080/"
        },
        "outputId": "de95d782-b953-4b2c-ab6a-710184308578"
      },
      "source": [
        "from keras.models import load_model\n",
        "\n",
        "best_model = load_model('mnist_fcn3_best_weights.041-0.985.hdf5')\n",
        "best_model.evaluate(X_test, y_test, batch_size=100)"
      ],
      "execution_count": null,
      "outputs": [
        {
          "output_type": "stream",
          "name": "stdout",
          "text": [
            "100/100 [==============================] - 0s 2ms/step - loss: 0.0949 - accuracy: 0.9853\n"
          ]
        },
        {
          "output_type": "execute_result",
          "data": {
            "text/plain": [
              "[0.09490590542554855, 0.9853000044822693]"
            ]
          },
          "metadata": {},
          "execution_count": 14
        }
      ]
    },
    {
      "cell_type": "markdown",
      "metadata": {
        "id": "o6YQKW13EBhB"
      },
      "source": [
        "---"
      ]
    },
    {
      "cell_type": "markdown",
      "metadata": {
        "id": "mHPhgk3FmmPB"
      },
      "source": [
        "## Visualization of the best model\n",
        "---\n",
        "![mnist_fcn_best](https://raw.githubusercontent.com/Redwoods/Py/master/pdm2020/my-note/py-streamlit-21/app/mnist_fcn.png)"
      ]
    },
    {
      "cell_type": "code",
      "metadata": {
        "id": "-uYuq66xmsrG"
      },
      "source": [
        "def plot_pred(i, pred_y, true_y, img):\n",
        "    \n",
        "    plt.grid(False)\n",
        "    plt.title(class_names[np.argmax(true_y)])\n",
        "    plt.xticks([])\n",
        "    plt.yticks([])\n",
        "\n",
        "    plt.imshow(img)\n",
        "\n",
        "    predicted_label = np.argmax(pred_y)\n",
        "    if predicted_label == np.argmax(true_y):   # np.argmax(true_label)\n",
        "        plt.suptitle(\"Test image-%d: Classified correctly\" % i)\n",
        "    else:\n",
        "        plt.suptitle(\"Test image-%d: Wrong classification\" % i)\n",
        "\n",
        "\n",
        "def plot_bar(pred_y, true_y):\n",
        "    \n",
        "    plt.grid(False)\n",
        "    plt.yticks([])\n",
        "    plt.xticks(np.arange(10), class_names, rotation=0)\n",
        "\n",
        "    thisplot = plt.bar(range(10), pred_y, color='grey')\n",
        "    plt.ylim([0, 1])\n",
        "    predicted_label = np.argmax(pred_y)\n",
        "\n",
        "    if predicted_label == np.argmax(true_y):  \n",
        "        color = 'green'\n",
        "    else:\n",
        "        color = 'red'\n",
        "\n",
        "    thisplot[predicted_label].set_color(color)\n"
      ],
      "execution_count": null,
      "outputs": []
    },
    {
      "cell_type": "code",
      "metadata": {
        "id": "j-ebekW5qNAe",
        "colab": {
          "base_uri": "https://localhost:8080/"
        },
        "outputId": "8450846e-ff56-43fa-caf8-2f04530db8ad"
      },
      "source": [
        "X_test.shape,y_test.shape"
      ],
      "execution_count": null,
      "outputs": [
        {
          "output_type": "execute_result",
          "data": {
            "text/plain": [
              "((10000, 28, 28), (10000, 10))"
            ]
          },
          "metadata": {},
          "execution_count": 16
        }
      ]
    },
    {
      "cell_type": "code",
      "metadata": {
        "id": "vdavbni-nWyB",
        "colab": {
          "base_uri": "https://localhost:8080/"
        },
        "outputId": "b629bedb-70d9-4fde-8dc2-bd3333bd52ef"
      },
      "source": [
        "num = np.random.randint(0, len(y_test))\n",
        "y_pred0 = best_model.predict(X_test[num:num+1], verbose=1)"
      ],
      "execution_count": null,
      "outputs": [
        {
          "output_type": "stream",
          "name": "stdout",
          "text": [
            "1/1 [==============================] - 0s 83ms/step\n"
          ]
        }
      ]
    },
    {
      "cell_type": "code",
      "metadata": {
        "id": "cFLEuELxqXDg",
        "colab": {
          "base_uri": "https://localhost:8080/"
        },
        "outputId": "ea311d21-0a69-45fe-bb41-a18344852a18"
      },
      "source": [
        "y_pred0"
      ],
      "execution_count": null,
      "outputs": [
        {
          "output_type": "execute_result",
          "data": {
            "text/plain": [
              "array([[2.0492228e-30, 5.2322408e-28, 1.0000000e+00, 1.0458209e-18,\n",
              "        1.1395229e-26, 5.9272003e-31, 1.3983643e-32, 3.4582425e-23,\n",
              "        6.2426951e-25, 4.0929538e-31]], dtype=float32)"
            ]
          },
          "metadata": {},
          "execution_count": 18
        }
      ]
    },
    {
      "cell_type": "code",
      "metadata": {
        "id": "0FXr4jTzrAH3",
        "colab": {
          "base_uri": "https://localhost:8080/"
        },
        "outputId": "e97bd3f8-6458-4e4a-9114-b3c047a59cc3"
      },
      "source": [
        "y_test0=y_test[num:num+1]\n",
        "y_test0"
      ],
      "execution_count": null,
      "outputs": [
        {
          "output_type": "execute_result",
          "data": {
            "text/plain": [
              "array([[0., 0., 1., 0., 0., 0., 0., 0., 0., 0.]], dtype=float32)"
            ]
          },
          "metadata": {},
          "execution_count": 19
        }
      ]
    },
    {
      "cell_type": "code",
      "metadata": {
        "id": "QYC5cGWcrumm"
      },
      "source": [
        "X_test0 = X_test[num]"
      ],
      "execution_count": null,
      "outputs": []
    },
    {
      "cell_type": "code",
      "metadata": {
        "id": "fstDlYF9rTxI"
      },
      "source": [
        "class_names = [\"0\",\"1\",\"2\",\"3\",\"4\",\"5\",\"6\",\"7\",\"8\",\"9\"]"
      ],
      "execution_count": null,
      "outputs": []
    },
    {
      "cell_type": "code",
      "metadata": {
        "id": "AB2zf02bndrm",
        "colab": {
          "base_uri": "https://localhost:8080/",
          "height": 540
        },
        "outputId": "bef70901-51da-4694-aa7b-9b8cf624028e"
      },
      "source": [
        "plt.figure(figsize=(10,8))\n",
        "plt.subplot(2,1,1)\n",
        "plot_pred(num, y_pred0[0], y_test0[0], X_test0)\n",
        "plt.subplot(2,1,2)\n",
        "plot_bar(y_pred0[0],  y_test0[0])\n",
        "plt.title(\"Green: True, Red: False\")\n",
        "plt.show()"
      ],
      "execution_count": null,
      "outputs": [
        {
          "output_type": "display_data",
          "data": {
            "image/png": "[encoded data removed]",
            "text/plain": [
              "<Figure size 720x576 with 2 Axes>"
            ]
          },
          "metadata": {
            "needs_background": "light"
          }
        }
      ]
    },
    {
      "cell_type": "markdown",
      "metadata": {
        "id": "qlnZWcmyv56p"
      },
      "source": [
        "---"
      ]
    },
    {
      "cell_type": "code",
      "metadata": {
        "id": "uwcUIZX_v8YL",
        "colab": {
          "base_uri": "https://localhost:8080/",
          "height": 558
        },
        "outputId": "eb92af94-4968-483e-bbc5-7b72780301f0"
      },
      "source": [
        "# Random test\n",
        "num = np.random.randint(0, len(y_test))\n",
        "y_pred0 = best_model.predict(X_test[num:num+1], verbose=1)\n",
        "y_test0=y_test[num:num+1]\n",
        "X_test0 = X_test[num]\n",
        "\n",
        "class_names = [\"0\",\"1\",\"2\",\"3\",\"4\",\"5\",\"6\",\"7\",\"8\",\"9\"]\n",
        "\n",
        "plt.figure(figsize=(10,8))\n",
        "plt.subplot(2,1,1)\n",
        "plot_pred(num, y_pred0[0], y_test0[0], X_test0)\n",
        "plt.subplot(2,1,2)\n",
        "plot_bar(y_pred0[0],  y_test0[0])\n",
        "plt.title(\"Green: True, Red: False\")\n",
        "plt.show()"
      ],
      "execution_count": null,
      "outputs": [
        {
          "output_type": "stream",
          "name": "stdout",
          "text": [
            "1/1 [==============================] - 0s 15ms/step\n"
          ]
        },
        {
          "output_type": "display_data",
          "data": {
            "image/png": "[encoded data removed]",
            "text/plain": [
              "<Figure size 720x576 with 2 Axes>"
            ]
          },
          "metadata": {
            "needs_background": "light"
          }
        }
      ]
    },
    {
      "cell_type": "code",
      "metadata": {
        "id": "74wCLxbThn-M"
      },
      "source": [
        ""
      ],
      "execution_count": null,
      "outputs": []
    }
  ]
}