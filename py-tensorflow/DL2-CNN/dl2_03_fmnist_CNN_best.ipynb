{
  "nbformat": 4,
  "nbformat_minor": 0,
  "metadata": {
    "accelerator": "GPU",
    "colab": {
      "name": "dl2-03-fmnist-CNN-best.ipynb",
      "provenance": [],
      "collapsed_sections": [],
      "include_colab_link": true
    },
    "interpreter": {
      "hash": "3834ce636a3ba6c6c2bd8b9b527c48eede78c367f849f6cce666ea7f1d26e2fb"
    },
    "kernelspec": {
      "display_name": "Python 3.8.5 64-bit ('base': conda)",
      "name": "python3"
    },
    "language_info": {
      "codemirror_mode": {
        "name": "ipython",
        "version": 3
      },
      "file_extension": ".py",
      "mimetype": "text/x-python",
      "name": "python",
      "nbconvert_exporter": "python",
      "pygments_lexer": "ipython3",
      "version": "3.8.5"
    }
  },
  "cells": [
    {
      "cell_type": "markdown",
      "metadata": {
        "id": "view-in-github",
        "colab_type": "text"
      },
      "source": [
        "<a href=\"https://colab.research.google.com/github/loosiu/pdm14/blob/main/py-tensorflow/DL2-CNN/dl2_03_fmnist_CNN_best.ipynb\" target=\"_parent\"><img src=\"https://colab.research.google.com/assets/colab-badge.svg\" alt=\"Open In Colab\"/></a>"
      ]
    },
    {
      "cell_type": "markdown",
      "metadata": {
        "id": "rswfCVLZ-QW0"
      },
      "source": [
        "# **CNN model of fmnist dataset**\n",
        "- Conv2D + FCN\n",
        "    * Conv2D : 2차원 합성곱 필터링 + 풀링(Pooling)\n",
        "    - > 2차원 필터로 영상을 대표하는 특징을 추출\n",
        "    * FCN : 1차원 완전연결신경망\n",
        "    - > Conv2D에서 추출된 대표 특징들을 이용하여 FCN으로 최종 학습 완료\n",
        "    \n",
        "\n",
        "***\n",
        "- ## Traget: Find the best model of fmnist dataset\n",
        "***\n",
        "\n",
        "![mnist_NN_2_layers](https://img1.daumcdn.net/thumb/R1280x0/?scode=mtistory2&fname=https%3A%2F%2Fblog.kakaocdn.net%2Fdn%2FdJp5Z6%2FbtqAPebnF3x%2FQCe5vVcskhmxe964bGz4iK%2Fimg.png)\n",
        "\n",
        "(source: https://img1.daumcdn.net/thumb/R1280x0/?scode=mtistory2&fname=https%3A%2F%2Fblog.kakaocdn.net%2Fdn%2FdJp5Z6%2FbtqAPebnF3x%2FQCe5vVcskhmxe964bGz4iK%2Fimg.png)"
      ]
    },
    {
      "cell_type": "markdown",
      "metadata": {
        "id": "ISueys4bNHd1"
      },
      "source": [
        "## dataset: fashion_mnist\n",
        "- (60000, 28, 28), train\n",
        "- (10000, 28, 28), test\n",
        "- grayscale images of items of 10 types of clothings, such as shoes, t-shirts, dresses, and more.\n",
        "- class names\n",
        "> class_names = ['T-shirt/top', 'Trouser', 'Pullover', 'Dress', 'Coat', 'Sandal', 'Shirt', 'Sneaker', 'Bag', 'Ankle boot']\n",
        "\n",
        "- DL of fmnist\n",
        "> https://machinelearningmastery.com/how-to-develop-a-cnn-from-scratch-for-fashion-mnist-clothing-classification/\n"
      ]
    },
    {
      "cell_type": "markdown",
      "metadata": {
        "id": "1yhvkxS_HhpK"
      },
      "source": [
        "## Search the best model of C2F2\n",
        "- callback\n",
        "    - Early stopping\n",
        "    - model checkpoint"
      ]
    },
    {
      "cell_type": "code",
      "metadata": {
        "id": "8GgGzPXPVyfa",
        "colab": {
          "base_uri": "https://localhost:8080/"
        },
        "outputId": "1c5fa977-73e4-4a3d-d0ff-0b559015689d"
      },
      "source": [
        "import numpy as np\n",
        "import tensorflow as tf\n",
        "from tensorflow import keras\n",
        "import pandas as pd\n",
        "import matplotlib.pyplot as plt\n",
        "# %matplotlib inline\n",
        "\n",
        "tf.random.set_seed(0)\n",
        "\n",
        "print(tf.__version__)"
      ],
      "execution_count": 1,
      "outputs": [
        {
          "output_type": "stream",
          "name": "stdout",
          "text": [
            "2.7.0\n"
          ]
        }
      ]
    },
    {
      "cell_type": "code",
      "metadata": {
        "id": "nMZqMpIvIlwf"
      },
      "source": [
        "# import TF2 submodules\n",
        "from tensorflow.keras import layers, models, callbacks"
      ],
      "execution_count": 2,
      "outputs": []
    },
    {
      "cell_type": "markdown",
      "metadata": {
        "id": "-0IOOUM14Jk1"
      },
      "source": [
        "## **데이터 로딩, 정규화**"
      ]
    },
    {
      "cell_type": "code",
      "metadata": {
        "id": "N1ogJ7I64Fz-",
        "colab": {
          "base_uri": "https://localhost:8080/"
        },
        "outputId": "07983007-d0f8-451e-e895-cc58491942c4"
      },
      "source": [
        "from keras.datasets import fashion_mnist\n",
        "\n",
        "(X_train0, y_train0), (X_test0, y_test0) = fashion_mnist.load_data()\n",
        "\n",
        "# Reshape\n",
        "X_train = X_train0.reshape(60000,28,28,1)\n",
        "X_test = X_test0.reshape(10000,28,28,1)\n",
        "\n",
        "# Normalization\n",
        "X_train, X_test = X_train/255.0, X_test/255.0 # 정규화\n",
        "\n",
        "print(\"X_train={0}\".format(X_train.shape))\n",
        "print(\"y_train={0}\".format(y_train0.shape)) \n",
        "print(\"X_test={0}\".format(X_test.shape))\n",
        "print(\"y_test={0}\".format(y_test0.shape))"
      ],
      "execution_count": 3,
      "outputs": [
        {
          "output_type": "stream",
          "name": "stdout",
          "text": [
            "Downloading data from https://storage.googleapis.com/tensorflow/tf-keras-datasets/train-labels-idx1-ubyte.gz\n",
            "32768/29515 [=================================] - 0s 0us/step\n",
            "40960/29515 [=========================================] - 0s 0us/step\n",
            "Downloading data from https://storage.googleapis.com/tensorflow/tf-keras-datasets/train-images-idx3-ubyte.gz\n",
            "26427392/26421880 [==============================] - 0s 0us/step\n",
            "26435584/26421880 [==============================] - 0s 0us/step\n",
            "Downloading data from https://storage.googleapis.com/tensorflow/tf-keras-datasets/t10k-labels-idx1-ubyte.gz\n",
            "16384/5148 [===============================================================================================] - 0s 0us/step\n",
            "Downloading data from https://storage.googleapis.com/tensorflow/tf-keras-datasets/t10k-images-idx3-ubyte.gz\n",
            "4423680/4422102 [==============================] - 0s 0us/step\n",
            "4431872/4422102 [==============================] - 0s 0us/step\n",
            "X_train=(60000, 28, 28, 1)\n",
            "y_train=(60000,)\n",
            "X_test=(10000, 28, 28, 1)\n",
            "y_test=(10000,)\n"
          ]
        }
      ]
    },
    {
      "cell_type": "code",
      "metadata": {
        "id": "F46-QZqJHiQ6",
        "colab": {
          "base_uri": "https://localhost:8080/"
        },
        "outputId": "0f80111f-23d2-4824-eaf1-77132ff80ccd"
      },
      "source": [
        "# One-Hot-Encoding\n",
        "# Use function to_categorical() to do One-Hot-Encoding\n",
        "# tf.keras.utils.to_categorical\n",
        "from tensorflow.keras.utils import to_categorical\n",
        "\n",
        "y_train = to_categorical(y_train0, 10)\n",
        "y_test = to_categorical(y_test0, 10)\n",
        "y_train.shape,y_test.shape"
      ],
      "execution_count": 4,
      "outputs": [
        {
          "output_type": "execute_result",
          "data": {
            "text/plain": [
              "((60000, 10), (10000, 10))"
            ]
          },
          "metadata": {},
          "execution_count": 4
        }
      ]
    },
    {
      "cell_type": "code",
      "metadata": {
        "id": "eZ3OfP5PkEkL",
        "colab": {
          "base_uri": "https://localhost:8080/"
        },
        "outputId": "b566fb74-ad02-4572-d8af-c59bdc04ec53"
      },
      "source": [
        "# y_train0.shape vs. y_train.shape\n",
        "y_train0.shape, y_train.shape"
      ],
      "execution_count": 5,
      "outputs": [
        {
          "output_type": "execute_result",
          "data": {
            "text/plain": [
              "((60000,), (60000, 10))"
            ]
          },
          "metadata": {},
          "execution_count": 5
        }
      ]
    },
    {
      "cell_type": "markdown",
      "metadata": {
        "id": "5z7SozStigmF"
      },
      "source": [
        "### Display fashions\n",
        "- one random fashion\n",
        "- 10 representative fashions"
      ]
    },
    {
      "cell_type": "code",
      "metadata": {
        "id": "IK7XT3XoirSL",
        "colab": {
          "base_uri": "https://localhost:8080/",
          "height": 286
        },
        "outputId": "6bab3c20-d743-4352-dcef-2996865ba7ae"
      },
      "source": [
        "# Code here!\n",
        "# display one random image from the training set:\n",
        "class_names =  ['T-shirt/top', 'Trouser', 'Pullover', 'Dress', 'Coat', 'Sandal', 'Shirt', 'Sneaker', 'Bag', 'Ankle boot']\n",
        "\n",
        "idx = np.random.randint(0, X_train0.shape[0])\n",
        "print(idx)\n",
        "image = X_train0[idx]\n",
        "plt.imshow(image) #, cmap=plt.get_cmap('gray'))\n",
        "plt.title(class_names[y_train0[idx]])\n",
        "plt.xticks([])\n",
        "plt.yticks([])\n",
        "plt.show()"
      ],
      "execution_count": 6,
      "outputs": [
        {
          "output_type": "stream",
          "name": "stdout",
          "text": [
            "34867\n"
          ]
        },
        {
          "output_type": "display_data",
          "data": {
            "image/png": "[encoded data removed]",
            "text/plain": [
              "<Figure size 432x288 with 1 Axes>"
            ]
          },
          "metadata": {}
        }
      ]
    },
    {
      "cell_type": "code",
      "metadata": {
        "id": "LzhD5pcukau7",
        "colab": {
          "base_uri": "https://localhost:8080/",
          "height": 325
        },
        "outputId": "1b8dd739-da0a-4c16-9d32-5a0fd1093637"
      },
      "source": [
        "fig = plt.figure(figsize=(10,6))\n",
        "for i in range(10):\n",
        "    plt.subplot(2, 5, i+1)\n",
        "    num0_9 = X_train0[y_train0 == i]\n",
        "    # print(num0_9.shape)\n",
        "    plt.imshow(num0_9[0]) #, cmap='gray') #, interpolation='none')\n",
        "    plt.title(class_names[i])\n",
        "    plt.xticks([])\n",
        "    plt.yticks([])"
      ],
      "execution_count": 7,
      "outputs": [
        {
          "output_type": "display_data",
          "data": {
            "image/png": "[encoded data removed]",
            "text/plain": [
              "<Figure size 720x432 with 10 Axes>"
            ]
          },
          "metadata": {}
        }
      ]
    },
    {
      "cell_type": "markdown",
      "metadata": {
        "id": "55DYVfFXi0WR"
      },
      "source": [
        "# Design CNN"
      ]
    },
    {
      "cell_type": "markdown",
      "metadata": {
        "id": "iPcLIcUCcsiG"
      },
      "source": [
        "### import models, layers, callbacks\n",
        "- models: Sequential\n",
        "- layers: Conv2D, MaxPool2D, Flatten\n",
        "- callbacks: ModelCheckpoint, EarlyStopping"
      ]
    },
    {
      "cell_type": "code",
      "metadata": {
        "id": "NzqMC4Xtc3ZE"
      },
      "source": [
        "from keras.models import Sequential\n",
        "from keras.layers import Conv2D, MaxPool2D, Flatten\n",
        "from keras.callbacks import ModelCheckpoint, EarlyStopping"
      ],
      "execution_count": 8,
      "outputs": []
    },
    {
      "cell_type": "markdown",
      "metadata": {
        "id": "7Z6DJJUCei-s"
      },
      "source": [
        "## **CNN2 + FCN2**"
      ]
    },
    {
      "cell_type": "code",
      "metadata": {
        "id": "cSFVjVngsELo"
      },
      "source": [
        "# Random number seed\n",
        "np.random.seed(1234)\n",
        "tf.random.set_seed(1234)"
      ],
      "execution_count": 13,
      "outputs": []
    },
    {
      "cell_type": "code",
      "metadata": {
        "id": "pV3NFglM7P65"
      },
      "source": [
        "c2f2 = keras.models.Sequential([ \n",
        "    Conv2D(input_shape=(28,28,1), filters= 64, \n",
        "                kernel_size=(3,3),strides=(1,1),padding='same',activation='relu'),\n",
        "    MaxPool2D(pool_size=(2,2), strides=(2,2)), \n",
        "    Conv2D(filters= 32, \n",
        "                kernel_size=(3,3),strides=(1,1),padding='same',activation='relu'),\n",
        "    MaxPool2D(pool_size=(2,2), strides=(2,2)),\n",
        "    Flatten(), \n",
        "    keras.layers.Dense(128, activation='relu'),  \n",
        "    keras.layers.Dropout(0.25), \n",
        "    keras.layers.Dense(10, activation='softmax')\n",
        "])\n",
        "\n",
        "c2f2.compile(optimizer='adam',\n",
        "              loss='categorical_crossentropy',\n",
        "              metrics=['accuracy']) "
      ],
      "execution_count": 14,
      "outputs": []
    },
    {
      "cell_type": "code",
      "metadata": {
        "id": "OGtCiKy57YkR",
        "colab": {
          "base_uri": "https://localhost:8080/"
        },
        "outputId": "ba82456e-d1d3-4c48-b1dd-c8371b0713a3"
      },
      "source": [
        "c2f2.summary()"
      ],
      "execution_count": 11,
      "outputs": [
        {
          "output_type": "stream",
          "name": "stdout",
          "text": [
            "Model: \"sequential\"\n",
            "_________________________________________________________________\n",
            " Layer (type)                Output Shape              Param #   \n",
            "=================================================================\n",
            " conv2d (Conv2D)             (None, 28, 28, 64)        640       \n",
            "                                                                 \n",
            " max_pooling2d (MaxPooling2D  (None, 14, 14, 64)       0         \n",
            " )                                                               \n",
            "                                                                 \n",
            " conv2d_1 (Conv2D)           (None, 14, 14, 32)        18464     \n",
            "                                                                 \n",
            " max_pooling2d_1 (MaxPooling  (None, 7, 7, 32)         0         \n",
            " 2D)                                                             \n",
            "                                                                 \n",
            " flatten (Flatten)           (None, 1568)              0         \n",
            "                                                                 \n",
            " dense (Dense)               (None, 128)               200832    \n",
            "                                                                 \n",
            " dropout (Dropout)           (None, 128)               0         \n",
            "                                                                 \n",
            " dense_1 (Dense)             (None, 10)                1290      \n",
            "                                                                 \n",
            "=================================================================\n",
            "Total params: 221,226\n",
            "Trainable params: 221,226\n",
            "Non-trainable params: 0\n",
            "_________________________________________________________________\n"
          ]
        }
      ]
    },
    {
      "cell_type": "code",
      "metadata": {
        "id": "zw_pQPBdJmU8"
      },
      "source": [
        "mc_callback = callbacks.ModelCheckpoint(filepath=\"./fmnist_c2f2_best_weights.{epoch:03d}-{val_accuracy:.4f}.hdf5\", \n",
        "                              monitor='val_accuracy', verbose=0, save_best_only=True)\n",
        "es_callback = callbacks.EarlyStopping(monitor='val_accuracy', \n",
        "                            mode='max', verbose=1, patience=5)    # patience=5, 10, 20, 50"
      ],
      "execution_count": 12,
      "outputs": []
    },
    {
      "cell_type": "code",
      "metadata": {
        "id": "94GWWQt-7eRS",
        "colab": {
          "base_uri": "https://localhost:8080/"
        },
        "outputId": "e35c7e36-68e2-455d-814d-0e8f7089f6b8"
      },
      "source": [
        "hist = c2f2.fit(X_train, y_train, epochs = 500 , batch_size =100, \n",
        "         callbacks=[mc_callback, es_callback], \n",
        "         validation_data=(X_test,y_test))"
      ],
      "execution_count": 15,
      "outputs": [
        {
          "output_type": "stream",
          "name": "stdout",
          "text": [
            "Epoch 1/500\n",
            "600/600 [==============================] - 36s 10ms/step - loss: 0.5300 - accuracy: 0.8083 - val_loss: 0.3663 - val_accuracy: 0.8693\n",
            "Epoch 2/500\n",
            "600/600 [==============================] - 6s 10ms/step - loss: 0.3427 - accuracy: 0.8767 - val_loss: 0.3090 - val_accuracy: 0.8856\n",
            "Epoch 3/500\n",
            "600/600 [==============================] - 6s 10ms/step - loss: 0.2938 - accuracy: 0.8931 - val_loss: 0.2926 - val_accuracy: 0.8946\n",
            "Epoch 4/500\n",
            "600/600 [==============================] - 6s 9ms/step - loss: 0.2652 - accuracy: 0.9023 - val_loss: 0.2690 - val_accuracy: 0.9003\n",
            "Epoch 5/500\n",
            "600/600 [==============================] - 6s 9ms/step - loss: 0.2431 - accuracy: 0.9109 - val_loss: 0.2687 - val_accuracy: 0.9034\n",
            "Epoch 6/500\n",
            "600/600 [==============================] - 6s 10ms/step - loss: 0.2240 - accuracy: 0.9173 - val_loss: 0.2540 - val_accuracy: 0.9068\n",
            "Epoch 7/500\n",
            "600/600 [==============================] - 6s 10ms/step - loss: 0.2068 - accuracy: 0.9229 - val_loss: 0.2456 - val_accuracy: 0.9122\n",
            "Epoch 8/500\n",
            "600/600 [==============================] - 6s 10ms/step - loss: 0.1931 - accuracy: 0.9283 - val_loss: 0.2476 - val_accuracy: 0.9109\n",
            "Epoch 9/500\n",
            "600/600 [==============================] - 6s 10ms/step - loss: 0.1792 - accuracy: 0.9332 - val_loss: 0.2367 - val_accuracy: 0.9167\n",
            "Epoch 10/500\n",
            "600/600 [==============================] - 6s 10ms/step - loss: 0.1661 - accuracy: 0.9384 - val_loss: 0.2303 - val_accuracy: 0.9160\n",
            "Epoch 11/500\n",
            "600/600 [==============================] - 6s 9ms/step - loss: 0.1579 - accuracy: 0.9409 - val_loss: 0.2369 - val_accuracy: 0.9148\n",
            "Epoch 12/500\n",
            "600/600 [==============================] - 6s 10ms/step - loss: 0.1471 - accuracy: 0.9444 - val_loss: 0.2403 - val_accuracy: 0.9181\n",
            "Epoch 13/500\n",
            "600/600 [==============================] - 6s 10ms/step - loss: 0.1383 - accuracy: 0.9481 - val_loss: 0.2308 - val_accuracy: 0.9235\n",
            "Epoch 14/500\n",
            "600/600 [==============================] - 6s 10ms/step - loss: 0.1276 - accuracy: 0.9519 - val_loss: 0.2459 - val_accuracy: 0.9229\n",
            "Epoch 15/500\n",
            "600/600 [==============================] - 6s 9ms/step - loss: 0.1190 - accuracy: 0.9552 - val_loss: 0.2369 - val_accuracy: 0.9221\n",
            "Epoch 16/500\n",
            "600/600 [==============================] - 6s 10ms/step - loss: 0.1127 - accuracy: 0.9570 - val_loss: 0.2631 - val_accuracy: 0.9230\n",
            "Epoch 17/500\n",
            "600/600 [==============================] - 6s 10ms/step - loss: 0.1045 - accuracy: 0.9607 - val_loss: 0.2517 - val_accuracy: 0.9208\n",
            "Epoch 18/500\n",
            "600/600 [==============================] - 6s 10ms/step - loss: 0.0990 - accuracy: 0.9617 - val_loss: 0.2562 - val_accuracy: 0.9227\n",
            "Epoch 00018: early stopping\n"
          ]
        }
      ]
    },
    {
      "cell_type": "code",
      "metadata": {
        "id": "0-7is2U49A6Z",
        "colab": {
          "base_uri": "https://localhost:8080/"
        },
        "outputId": "5bea48da-7865-47ce-b6ba-29e3cbeabf70"
      },
      "source": [
        "c2f2.evaluate(X_test, y_test, batch_size =100)"
      ],
      "execution_count": 17,
      "outputs": [
        {
          "output_type": "stream",
          "name": "stdout",
          "text": [
            "100/100 [==============================] - 1s 6ms/step - loss: 0.2562 - accuracy: 0.9227\n"
          ]
        },
        {
          "output_type": "execute_result",
          "data": {
            "text/plain": [
              "[0.25619402527809143, 0.9226999878883362]"
            ]
          },
          "metadata": {},
          "execution_count": 17
        }
      ]
    },
    {
      "cell_type": "markdown",
      "metadata": {
        "id": "3Ub3qGnjs4EI"
      },
      "source": [
        "## Graph of loss and accuracy\n",
        "- model: C2F2"
      ]
    },
    {
      "cell_type": "code",
      "metadata": {
        "colab": {
          "base_uri": "https://localhost:8080/",
          "height": 295
        },
        "id": "x9EQ2Z_c2gYL",
        "outputId": "ed0884a4-6ddc-40b2-cb6e-2b8597b06d70"
      },
      "source": [
        "# More graphs of loss and accuracy\n",
        "history_dict = hist.history\n",
        "loss = history_dict['loss']\n",
        "val_loss = history_dict['val_loss']\n",
        "\n",
        "epochs = range(1, len(loss) + 1)\n",
        "\n",
        "plt.figure(figsize=(14, 4))\n",
        "\n",
        "plt.subplot(1,2,1)\n",
        "plt.plot(epochs, loss, 'go-', label='Training Loss')\n",
        "plt.plot(epochs, val_loss, 'bd', label='Validation Loss')\n",
        "plt.plot(np.argmin(np.array(val_loss))+1,val_loss[np.argmin(np.array(val_loss))], 'r*', ms=12)\n",
        "plt.title('Training and Validation Loss, min: ' + str(np.round(val_loss[np.argmin(np.array(val_loss))],2)))\n",
        "plt.xlabel('Epochs')\n",
        "plt.ylabel('Loss')\n",
        "plt.legend()\n",
        "\n",
        "acc = history_dict['accuracy']\n",
        "val_acc = history_dict['val_accuracy']\n",
        "\n",
        "epochs = range(1, len(loss) + 1)\n",
        "\n",
        "plt.subplot(1,2,2)\n",
        "plt.plot(epochs, acc, 'go-', label='Training Accuracy') #, c='blue')\n",
        "plt.plot(epochs, val_acc, 'bd', label='Validation Accuracy') #, c='red')\n",
        "plt.plot(np.argmax(np.array(val_acc))+1,val_acc[np.argmax(np.array(val_acc))], 'r*', ms=12)\n",
        "plt.title('Training and Validation Accuracy, max: ' + str(np.round(val_acc[np.argmax(np.array(val_acc))],4)))\n",
        "plt.xlabel('Epochs')\n",
        "plt.ylabel('Accuracy')\n",
        "plt.legend()\n",
        "plt.show()"
      ],
      "execution_count": 18,
      "outputs": [
        {
          "output_type": "display_data",
          "data": {
            "image/png": "[encoded data removed]",
            "text/plain": [
              "<Figure size 1008x288 with 2 Axes>"
            ]
          },
          "metadata": {
            "needs_background": "light"
          }
        }
      ]
    },
    {
      "cell_type": "markdown",
      "metadata": {
        "id": "SUJxRQtafihM"
      },
      "source": [
        "## **CNN2 + FCN3**"
      ]
    },
    {
      "cell_type": "code",
      "metadata": {
        "id": "7cHrK78WsELt"
      },
      "source": [
        "# Random number seed\n",
        "np.random.seed(1234)\n",
        "tf.random.set_seed(1234)"
      ],
      "execution_count": 21,
      "outputs": []
    },
    {
      "cell_type": "code",
      "metadata": {
        "id": "Nl5CyAymAB34"
      },
      "source": [
        "c2f3 = keras.models.Sequential([ \n",
        "    Conv2D(input_shape=(28,28,1),filters= 64, kernel_size=(3,3),strides=(1,1),padding='same',activation='relu'),\n",
        "    MaxPool2D(pool_size=(2,2), strides=(2,2)), \n",
        "    Conv2D(filters= 32, kernel_size=(3,3),strides=(1,1),padding='same',activation='relu'),\n",
        "    MaxPool2D(pool_size=(2,2), strides=(2,2)),\n",
        "    Flatten(), \n",
        "    keras.layers.Dense(128, activation='relu'),  \n",
        "    keras.layers.Dropout(0.25), \n",
        "    keras.layers.Dense(64, activation='relu'),  \n",
        "    keras.layers.Dropout(0.25), \n",
        "    keras.layers.Dense(10, activation='softmax')\n",
        "])\n",
        "\n",
        "c2f3.compile(optimizer='adam',\n",
        "              loss='categorical_crossentropy',\n",
        "              metrics=['accuracy']) "
      ],
      "execution_count": 22,
      "outputs": []
    },
    {
      "cell_type": "code",
      "metadata": {
        "id": "gYxuGW_2ANL8",
        "colab": {
          "base_uri": "https://localhost:8080/"
        },
        "outputId": "73e60da0-0975-4e44-9bb0-f827994a56ba"
      },
      "source": [
        "c2f3.summary()"
      ],
      "execution_count": 23,
      "outputs": [
        {
          "output_type": "stream",
          "name": "stdout",
          "text": [
            "Model: \"sequential_3\"\n",
            "_________________________________________________________________\n",
            " Layer (type)                Output Shape              Param #   \n",
            "=================================================================\n",
            " conv2d_6 (Conv2D)           (None, 28, 28, 64)        640       \n",
            "                                                                 \n",
            " max_pooling2d_6 (MaxPooling  (None, 14, 14, 64)       0         \n",
            " 2D)                                                             \n",
            "                                                                 \n",
            " conv2d_7 (Conv2D)           (None, 14, 14, 32)        18464     \n",
            "                                                                 \n",
            " max_pooling2d_7 (MaxPooling  (None, 7, 7, 32)         0         \n",
            " 2D)                                                             \n",
            "                                                                 \n",
            " flatten_3 (Flatten)         (None, 1568)              0         \n",
            "                                                                 \n",
            " dense_7 (Dense)             (None, 128)               200832    \n",
            "                                                                 \n",
            " dropout_4 (Dropout)         (None, 128)               0         \n",
            "                                                                 \n",
            " dense_8 (Dense)             (None, 64)                8256      \n",
            "                                                                 \n",
            " dropout_5 (Dropout)         (None, 64)                0         \n",
            "                                                                 \n",
            " dense_9 (Dense)             (None, 10)                650       \n",
            "                                                                 \n",
            "=================================================================\n",
            "Total params: 228,842\n",
            "Trainable params: 228,842\n",
            "Non-trainable params: 0\n",
            "_________________________________________________________________\n"
          ]
        }
      ]
    },
    {
      "cell_type": "code",
      "metadata": {
        "id": "KMsTuhO2x61z"
      },
      "source": [
        "mc_callback = callbacks.ModelCheckpoint(filepath=\"./fmnist_c2f3_best_weights.{epoch:03d}-{val_accuracy:.4f}.hdf5\", \n",
        "                              monitor='val_accuracy', verbose=0, save_best_only=True)\n",
        "es_callback = callbacks.EarlyStopping(monitor='val_accuracy', \n",
        "                            mode='max', verbose=1, patience=5)    # patience=5, 10, 20, 50"
      ],
      "execution_count": 24,
      "outputs": []
    },
    {
      "cell_type": "code",
      "metadata": {
        "id": "lO1of4AOAQlV",
        "colab": {
          "base_uri": "https://localhost:8080/"
        },
        "outputId": "6cb9b8f7-5a79-4eec-a7ab-b3c8a88c2798"
      },
      "source": [
        "hist = c2f3.fit(X_train, y_train, epochs=500, batch_size =100, \n",
        "         callbacks=[mc_callback, es_callback], \n",
        "         validation_data=(X_test,y_test))"
      ],
      "execution_count": 25,
      "outputs": [
        {
          "output_type": "stream",
          "name": "stdout",
          "text": [
            "Epoch 1/500\n",
            "600/600 [==============================] - 7s 11ms/step - loss: 0.6224 - accuracy: 0.7726 - val_loss: 0.3848 - val_accuracy: 0.8572\n",
            "Epoch 2/500\n",
            "600/600 [==============================] - 6s 10ms/step - loss: 0.3827 - accuracy: 0.8647 - val_loss: 0.3153 - val_accuracy: 0.8849\n",
            "Epoch 3/500\n",
            "600/600 [==============================] - 6s 10ms/step - loss: 0.3209 - accuracy: 0.8859 - val_loss: 0.2891 - val_accuracy: 0.8977\n",
            "Epoch 4/500\n",
            "600/600 [==============================] - 6s 10ms/step - loss: 0.2912 - accuracy: 0.8952 - val_loss: 0.2694 - val_accuracy: 0.9027\n",
            "Epoch 5/500\n",
            "600/600 [==============================] - 6s 10ms/step - loss: 0.2679 - accuracy: 0.9026 - val_loss: 0.2762 - val_accuracy: 0.9001\n",
            "Epoch 6/500\n",
            "600/600 [==============================] - 6s 10ms/step - loss: 0.2461 - accuracy: 0.9121 - val_loss: 0.2497 - val_accuracy: 0.9078\n",
            "Epoch 7/500\n",
            "600/600 [==============================] - 6s 10ms/step - loss: 0.2295 - accuracy: 0.9159 - val_loss: 0.2580 - val_accuracy: 0.9061\n",
            "Epoch 8/500\n",
            "600/600 [==============================] - 6s 10ms/step - loss: 0.2175 - accuracy: 0.9211 - val_loss: 0.2503 - val_accuracy: 0.9103\n",
            "Epoch 9/500\n",
            "600/600 [==============================] - 6s 10ms/step - loss: 0.2040 - accuracy: 0.9257 - val_loss: 0.2645 - val_accuracy: 0.9078\n",
            "Epoch 10/500\n",
            "600/600 [==============================] - 6s 10ms/step - loss: 0.1916 - accuracy: 0.9292 - val_loss: 0.2399 - val_accuracy: 0.9144\n",
            "Epoch 11/500\n",
            "600/600 [==============================] - 6s 10ms/step - loss: 0.1797 - accuracy: 0.9349 - val_loss: 0.2418 - val_accuracy: 0.9145\n",
            "Epoch 12/500\n",
            "600/600 [==============================] - 6s 10ms/step - loss: 0.1711 - accuracy: 0.9362 - val_loss: 0.2373 - val_accuracy: 0.9153\n",
            "Epoch 13/500\n",
            "600/600 [==============================] - 6s 10ms/step - loss: 0.1624 - accuracy: 0.9400 - val_loss: 0.2485 - val_accuracy: 0.9146\n",
            "Epoch 14/500\n",
            "600/600 [==============================] - 6s 10ms/step - loss: 0.1551 - accuracy: 0.9430 - val_loss: 0.2429 - val_accuracy: 0.9226\n",
            "Epoch 15/500\n",
            "600/600 [==============================] - 6s 10ms/step - loss: 0.1443 - accuracy: 0.9466 - val_loss: 0.2352 - val_accuracy: 0.9216\n",
            "Epoch 16/500\n",
            "600/600 [==============================] - 6s 10ms/step - loss: 0.1390 - accuracy: 0.9491 - val_loss: 0.2561 - val_accuracy: 0.9200\n",
            "Epoch 17/500\n",
            "600/600 [==============================] - 6s 10ms/step - loss: 0.1305 - accuracy: 0.9511 - val_loss: 0.2560 - val_accuracy: 0.9219\n",
            "Epoch 18/500\n",
            "600/600 [==============================] - 6s 10ms/step - loss: 0.1271 - accuracy: 0.9530 - val_loss: 0.2668 - val_accuracy: 0.9193\n",
            "Epoch 19/500\n",
            "600/600 [==============================] - 6s 10ms/step - loss: 0.1215 - accuracy: 0.9549 - val_loss: 0.2670 - val_accuracy: 0.9207\n",
            "Epoch 00019: early stopping\n"
          ]
        }
      ]
    },
    {
      "cell_type": "code",
      "metadata": {
        "id": "W-eIxCasDBil",
        "colab": {
          "base_uri": "https://localhost:8080/"
        },
        "outputId": "3abdcae5-6a74-483b-e39c-787343f72781"
      },
      "source": [
        " c2f3.evaluate(X_test, y_test, batch_size = 100)"
      ],
      "execution_count": 26,
      "outputs": [
        {
          "output_type": "stream",
          "name": "stdout",
          "text": [
            "100/100 [==============================] - 1s 6ms/step - loss: 0.2670 - accuracy: 0.9207\n"
          ]
        },
        {
          "output_type": "execute_result",
          "data": {
            "text/plain": [
              "[0.2670261561870575, 0.9207000136375427]"
            ]
          },
          "metadata": {},
          "execution_count": 26
        }
      ]
    },
    {
      "cell_type": "markdown",
      "metadata": {
        "id": "XxwYdib0fT56"
      },
      "source": [
        "## Graph of loss and accuracy\n",
        "- model: C2F3"
      ]
    },
    {
      "cell_type": "code",
      "metadata": {
        "colab": {
          "base_uri": "https://localhost:8080/",
          "height": 295
        },
        "id": "RRgGPgv6sELv",
        "outputId": "e8840453-4405-4f84-c811-8c35ea27dfeb"
      },
      "source": [
        "# More graphs of loss and accuracy\n",
        "history_dict = hist.history\n",
        "loss = history_dict['loss']\n",
        "val_loss = history_dict['val_loss']\n",
        "\n",
        "epochs = range(1, len(loss) + 1)\n",
        "\n",
        "plt.figure(figsize=(14, 4))\n",
        "\n",
        "plt.subplot(1,2,1)\n",
        "plt.plot(epochs, loss, 'go-', label='Training Loss')\n",
        "plt.plot(epochs, val_loss, 'bd', label='Validation Loss')\n",
        "plt.plot(np.argmin(np.array(val_loss))+1,val_loss[np.argmin(np.array(val_loss))], 'r*', ms=12)\n",
        "plt.title('Training and Validation Loss, min: ' + str(np.round(val_loss[np.argmin(np.array(val_loss))],2)))\n",
        "plt.xlabel('Epochs')\n",
        "plt.ylabel('Loss')\n",
        "plt.legend()\n",
        "\n",
        "acc = history_dict['accuracy']\n",
        "val_acc = history_dict['val_accuracy']\n",
        "\n",
        "epochs = range(1, len(loss) + 1)\n",
        "\n",
        "plt.subplot(1,2,2)\n",
        "plt.plot(epochs, acc, 'go-', label='Training Accuracy') #, c='blue')\n",
        "plt.plot(epochs, val_acc, 'bd', label='Validation Accuracy') #, c='red')\n",
        "plt.plot(np.argmax(np.array(val_acc))+1,val_acc[np.argmax(np.array(val_acc))], 'r*', ms=12)\n",
        "plt.title('Training and Validation Accuracy, max: ' + str(np.round(val_acc[np.argmax(np.array(val_acc))],4)))\n",
        "plt.xlabel('Epochs')\n",
        "plt.ylabel('Accuracy')\n",
        "plt.legend()\n",
        "plt.show()"
      ],
      "execution_count": 27,
      "outputs": [
        {
          "output_type": "display_data",
          "data": {
            "image/png": "[encoded data removed]",
            "text/plain": [
              "<Figure size 1008x288 with 2 Axes>"
            ]
          },
          "metadata": {
            "needs_background": "light"
          }
        }
      ]
    },
    {
      "cell_type": "markdown",
      "metadata": {
        "id": "5XYSVtC-DVsz"
      },
      "source": [
        "# **[DIY] Hidden layer에 따른 정확도**"
      ]
    },
    {
      "cell_type": "code",
      "metadata": {
        "id": "OiCc_UO2rGmp",
        "colab": {
          "base_uri": "https://localhost:8080/"
        },
        "outputId": "be26ef3d-a48b-4aaa-e3a0-70e3f3dbb60a"
      },
      "source": [
        "score1=c2f2.evaluate(X_test, y_test, batch_size = 100)\n",
        "score2=c2f3.evaluate(X_test, y_test, batch_size = 100)\n",
        "losses = [score1[0],score2[0]]\n",
        "accuracies= [score1[1],score2[1]]\n",
        "losses,accuracies"
      ],
      "execution_count": 28,
      "outputs": [
        {
          "output_type": "stream",
          "name": "stdout",
          "text": [
            "100/100 [==============================] - 1s 6ms/step - loss: 0.2562 - accuracy: 0.9227\n",
            "100/100 [==============================] - 1s 6ms/step - loss: 0.2670 - accuracy: 0.9207\n"
          ]
        },
        {
          "output_type": "execute_result",
          "data": {
            "text/plain": [
              "([0.25619402527809143, 0.2670261561870575],\n",
              " [0.9226999878883362, 0.9207000136375427])"
            ]
          },
          "metadata": {},
          "execution_count": 28
        }
      ]
    },
    {
      "cell_type": "code",
      "metadata": {
        "id": "vZv6a2aVRw9j",
        "colab": {
          "base_uri": "https://localhost:8080/",
          "height": 269
        },
        "outputId": "46e28d69-d195-4c4f-d4be-1b3149f32003"
      },
      "source": [
        "x = np.arange(2)\n",
        "cnns = ['C2F2','C2F3']\n",
        "\n",
        "plt.bar(x, accuracies)\n",
        "plt.xticks(x, cnns)\n",
        "plt.ylim((.9,.93))\n",
        "plt.show()"
      ],
      "execution_count": 29,
      "outputs": [
        {
          "output_type": "display_data",
          "data": {
            "image/png": "[encoded data removed]",
            "text/plain": [
              "<Figure size 432x288 with 1 Axes>"
            ]
          },
          "metadata": {
            "needs_background": "light"
          }
        }
      ]
    },
    {
      "cell_type": "markdown",
      "metadata": {
        "id": "gBPKMI4y3fsa"
      },
      "source": [
        "## 모형의 저장\n",
        "\n",
        "- 트레이닝이 끝난 모형은 save 메서드로 가중치와 함께 hdf5 형식으로 저장\n",
        "- load 명령으로 불러 사용"
      ]
    },
    {
      "cell_type": "markdown",
      "metadata": {
        "id": "PjYYv00wsELx"
      },
      "source": [
        "## Best models\n",
        "- c2f2: fmnist_c2f2_best_weights.013-0.9235.hdf5\n",
        "- c2f3: fmnist_c2f3_best_weights.014-0.9226.hdf5"
      ]
    },
    {
      "cell_type": "code",
      "metadata": {
        "id": "b7-ysIVy3fse",
        "colab": {
          "base_uri": "https://localhost:8080/"
        },
        "outputId": "175eb4da-401d-4215-8544-4ac6cd82a49e"
      },
      "source": [
        "from keras.models import load_model\n",
        "\n",
        "model_best = load_model('fmnist_c2f2_best_weights.013-0.9235.hdf5')\n",
        "model_best.evaluate(X_test, y_test, batch_size=100)"
      ],
      "execution_count": 30,
      "outputs": [
        {
          "output_type": "stream",
          "name": "stdout",
          "text": [
            "100/100 [==============================] - 1s 6ms/step - loss: 0.2308 - accuracy: 0.9235\n"
          ]
        },
        {
          "output_type": "execute_result",
          "data": {
            "text/plain": [
              "[0.2307814508676529, 0.9235000014305115]"
            ]
          },
          "metadata": {},
          "execution_count": 30
        }
      ]
    },
    {
      "cell_type": "markdown",
      "metadata": {
        "id": "KF3UzDJotZrh"
      },
      "source": [
        "## Confusion matrix"
      ]
    },
    {
      "cell_type": "code",
      "metadata": {
        "id": "RV1IaOyeu6Em"
      },
      "source": [
        "from sklearn.metrics import confusion_matrix\n",
        "import seaborn as sns"
      ],
      "execution_count": 31,
      "outputs": []
    },
    {
      "cell_type": "code",
      "metadata": {
        "id": "Bxs1eC-cuO0Y"
      },
      "source": [
        "predictions = model_best.predict(X_test)"
      ],
      "execution_count": 32,
      "outputs": []
    },
    {
      "cell_type": "code",
      "metadata": {
        "id": "6Tqhg-UJujo5",
        "colab": {
          "base_uri": "https://localhost:8080/"
        },
        "outputId": "dad069b1-d561-48f6-e3c6-5b03993e5c40"
      },
      "source": [
        "predictions.shape"
      ],
      "execution_count": 33,
      "outputs": [
        {
          "output_type": "execute_result",
          "data": {
            "text/plain": [
              "(10000, 10)"
            ]
          },
          "metadata": {},
          "execution_count": 33
        }
      ]
    },
    {
      "cell_type": "code",
      "metadata": {
        "id": "nZch1JFSufoR",
        "colab": {
          "base_uri": "https://localhost:8080/"
        },
        "outputId": "9816da79-6830-41ba-a2c1-6caebec4f50a"
      },
      "source": [
        "predictions0 = np.argmax(predictions, axis=1)\n",
        "predictions0.shape"
      ],
      "execution_count": 34,
      "outputs": [
        {
          "output_type": "execute_result",
          "data": {
            "text/plain": [
              "(10000,)"
            ]
          },
          "metadata": {},
          "execution_count": 34
        }
      ]
    },
    {
      "cell_type": "code",
      "metadata": {
        "id": "hiPMQeYXt12l"
      },
      "source": [
        "cm = confusion_matrix(y_test0, predictions0)"
      ],
      "execution_count": 35,
      "outputs": []
    },
    {
      "cell_type": "code",
      "metadata": {
        "id": "YITaGwYjvatc"
      },
      "source": [
        "# class_names =  ['T-shirt/top', 'Trouser', 'Pullover', 'Dress', 'Coat', 'Sandal', 'Shirt', 'Sneaker', 'Bag', 'Ankle boot']"
      ],
      "execution_count": 37,
      "outputs": []
    },
    {
      "cell_type": "code",
      "metadata": {
        "id": "2qGHMNU3u8ut",
        "colab": {
          "base_uri": "https://localhost:8080/",
          "height": 552
        },
        "outputId": "f18e1d16-4378-47cf-a794-b74215283d86"
      },
      "source": [
        "plt.figure(figsize=(9,9))\n",
        "sns.heatmap(cm, cbar=False, xticklabels=class_names, yticklabels=class_names, fmt='d', annot=True, cmap=plt.cm.coolwarm)\n",
        "plt.xlabel('Predicted')\n",
        "plt.ylabel('Actual')\n",
        "plt.show()"
      ],
      "execution_count": 36,
      "outputs": [
        {
          "output_type": "display_data",
          "data": {
            "image/png": "[encoded data removed]",
            "text/plain": [
              "<Figure size 648x648 with 1 Axes>"
            ]
          },
          "metadata": {
            "needs_background": "light"
          }
        }
      ]
    },
    {
      "cell_type": "markdown",
      "metadata": {
        "id": "XR6u9ev1fpy3"
      },
      "source": [
        "---"
      ]
    }
  ]
}