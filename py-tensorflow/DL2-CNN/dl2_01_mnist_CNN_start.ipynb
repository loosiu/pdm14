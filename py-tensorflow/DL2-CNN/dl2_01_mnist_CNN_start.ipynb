{
  "nbformat": 4,
  "nbformat_minor": 0,
  "metadata": {
    "accelerator": "GPU",
    "colab": {
      "name": "dl2-01-mnist-CNN-start.ipynb",
      "provenance": [],
      "collapsed_sections": [],
      "include_colab_link": true
    },
    "interpreter": {
      "hash": "3834ce636a3ba6c6c2bd8b9b527c48eede78c367f849f6cce666ea7f1d26e2fb"
    },
    "kernelspec": {
      "display_name": "Python 3.8.5 64-bit ('base': conda)",
      "name": "python3"
    },
    "language_info": {
      "codemirror_mode": {
        "name": "ipython",
        "version": 3
      },
      "file_extension": ".py",
      "mimetype": "text/x-python",
      "name": "python",
      "nbconvert_exporter": "python",
      "pygments_lexer": "ipython3",
      "version": "3.8.5"
    }
  },
  "cells": [
    {
      "cell_type": "markdown",
      "metadata": {
        "id": "view-in-github",
        "colab_type": "text"
      },
      "source": [
        "<a href=\"https://colab.research.google.com/github/loosiu/pdm14/blob/main/py-tensorflow/DL2-CNN/dl2_01_mnist_CNN_start.ipynb\" target=\"_parent\"><img src=\"https://colab.research.google.com/assets/colab-badge.svg\" alt=\"Open In Colab\"/></a>"
      ]
    },
    {
      "cell_type": "markdown",
      "metadata": {
        "id": "rswfCVLZ-QW0"
      },
      "source": [
        "# **CNN model of mnist dataset**\n",
        "- Conv2D + FCN\n",
        "    * Conv2D : 2차원 합성곱 필터링 + 풀링(Pooling)\n",
        "    - > 2차원 필터로 영상을 대표하는 특징을 추출\n",
        "    * FCN : 1차원 완전연결신경망\n",
        "    - > Conv2D에서 추출된 대표 특징들을 이용하여 FCN으로 최종 학습 완료\n",
        "\n",
        "***\n",
        "\n",
        "![mnist_NN_2_layers](https://img1.daumcdn.net/thumb/R1280x0/?scode=mtistory2&fname=https%3A%2F%2Fblog.kakaocdn.net%2Fdn%2FdJp5Z6%2FbtqAPebnF3x%2FQCe5vVcskhmxe964bGz4iK%2Fimg.png)\n",
        "\n",
        "(source: https://img1.daumcdn.net/thumb/R1280x0/?scode=mtistory2&fname=https%3A%2F%2Fblog.kakaocdn.net%2Fdn%2FdJp5Z6%2FbtqAPebnF3x%2FQCe5vVcskhmxe964bGz4iK%2Fimg.png)"
      ]
    },
    {
      "cell_type": "code",
      "metadata": {
        "id": "8GgGzPXPVyfa",
        "colab": {
          "base_uri": "https://localhost:8080/"
        },
        "outputId": "06c08e26-fc8e-4c33-e40a-5f99978a3618"
      },
      "source": [
        "import numpy as np\n",
        "import tensorflow as tf\n",
        "from tensorflow import keras\n",
        "import pandas as pd\n",
        "import matplotlib.pyplot as plt\n",
        "# %matplotlib inline\n",
        "\n",
        "print(tf.__version__)"
      ],
      "execution_count": 2,
      "outputs": [
        {
          "output_type": "stream",
          "name": "stdout",
          "text": [
            "2.7.0\n"
          ]
        }
      ]
    },
    {
      "cell_type": "markdown",
      "metadata": {
        "id": "-0IOOUM14Jk1"
      },
      "source": [
        "## **데이터 로딩, 정규화**"
      ]
    },
    {
      "cell_type": "code",
      "metadata": {
        "id": "N1ogJ7I64Fz-",
        "colab": {
          "base_uri": "https://localhost:8080/"
        },
        "outputId": "9d3086ca-36fa-4e9b-94bc-be9c983c62dc"
      },
      "source": [
        "from keras.datasets import mnist\n",
        "\n",
        "(X_train0, y_train0), (X_test0, y_test0) = mnist.load_data()\n",
        "\n",
        "# Reshape\n",
        "X_train = X_train0.reshape(60000,28,28,1)\n",
        "X_test = X_test0.reshape(10000,28,28,1)\n",
        "\n",
        "# Normalization\n",
        "X_train, X_test = X_train/255.0, X_test/255.0 # 정규화\n",
        "\n",
        "print(\"X_train={0}\".format(X_train.shape))\n",
        "print(\"y_train={0}\".format(y_train0.shape)) \n",
        "print(\"X_test={0}\".format(X_test.shape))\n",
        "print(\"y_test={0}\".format(y_test0.shape))"
      ],
      "execution_count": 3,
      "outputs": [
        {
          "output_type": "stream",
          "name": "stdout",
          "text": [
            "Downloading data from https://storage.googleapis.com/tensorflow/tf-keras-datasets/mnist.npz\n",
            "11493376/11490434 [==============================] - 0s 0us/step\n",
            "11501568/11490434 [==============================] - 0s 0us/step\n",
            "X_train=(60000, 28, 28, 1)\n",
            "y_train=(60000,)\n",
            "X_test=(10000, 28, 28, 1)\n",
            "y_test=(10000,)\n"
          ]
        }
      ]
    },
    {
      "cell_type": "code",
      "metadata": {
        "id": "F46-QZqJHiQ6",
        "colab": {
          "base_uri": "https://localhost:8080/"
        },
        "outputId": "adfefb9d-81ef-4b52-ea03-5ef276ee9e60"
      },
      "source": [
        "# One-Hot-Encoding\n",
        "# Use function to_categorical() to do One-Hot-Encoding\n",
        "# tf.keras.utils.to_categorical\n",
        "from tensorflow.keras.utils import to_categorical\n",
        "\n",
        "y_train = to_categorical(y_train0, 10)\n",
        "y_test = to_categorical(y_test0, 10)\n",
        "y_train.shape,y_test.shape"
      ],
      "execution_count": 4,
      "outputs": [
        {
          "output_type": "execute_result",
          "data": {
            "text/plain": [
              "((60000, 10), (10000, 10))"
            ]
          },
          "metadata": {},
          "execution_count": 4
        }
      ]
    },
    {
      "cell_type": "markdown",
      "metadata": {
        "id": "5z7SozStigmF"
      },
      "source": [
        "### Display numbers\n",
        "- 10 representative numbers"
      ]
    },
    {
      "cell_type": "code",
      "metadata": {
        "id": "IK7XT3XoirSL",
        "colab": {
          "base_uri": "https://localhost:8080/",
          "height": 505
        },
        "outputId": "e915cd89-001c-427d-fac7-5949da6146c6"
      },
      "source": [
        "class_names = [\"0\",\"1\",\"2\",\"3\",\"4\",\"5\",\"6\",\"7\",\"8\",\"9\"]\n",
        "fig = plt.figure(figsize=(10,6))\n",
        "for i in range(10):\n",
        "    plt.subplot(2, 5, i+1)\n",
        "    num0_9 = X_train0[y_train0 == i]\n",
        "    print(num0_9.shape)\n",
        "    plt.imshow(num0_9[0]) #, cmap='gray') #, interpolation='none')\n",
        "    plt.title(\"Class - %d\" % (i))\n",
        "    plt.xticks([])\n",
        "    plt.yticks([])\n",
        "\n",
        "\n"
      ],
      "execution_count": 5,
      "outputs": [
        {
          "output_type": "stream",
          "name": "stdout",
          "text": [
            "(5923, 28, 28)\n",
            "(6742, 28, 28)\n",
            "(5958, 28, 28)\n",
            "(6131, 28, 28)\n",
            "(5842, 28, 28)\n",
            "(5421, 28, 28)\n",
            "(5918, 28, 28)\n",
            "(6265, 28, 28)\n",
            "(5851, 28, 28)\n",
            "(5949, 28, 28)\n"
          ]
        },
        {
          "output_type": "display_data",
          "data": {
            "image/png": "[encoded data removed]",
            "text/plain": [
              "<Figure size 720x432 with 10 Axes>"
            ]
          },
          "metadata": {}
        }
      ]
    },
    {
      "cell_type": "markdown",
      "metadata": {
        "id": "55DYVfFXi0WR"
      },
      "source": [
        "# Design CNN"
      ]
    },
    {
      "cell_type": "markdown",
      "metadata": {
        "id": "iPcLIcUCcsiG"
      },
      "source": [
        "### import Conv2D, MaxPool2D"
      ]
    },
    {
      "cell_type": "code",
      "metadata": {
        "id": "NzqMC4Xtc3ZE"
      },
      "source": [
        "from keras.layers import Conv2D, MaxPool2D, Flatten"
      ],
      "execution_count": 6,
      "outputs": []
    },
    {
      "cell_type": "markdown",
      "metadata": {
        "id": "pkaGYiPY4L4J"
      },
      "source": [
        "## **CNN1 + FCN2**\n",
        "- CNN1: Conv2D + MaxPooling2D\n",
        "- FCN2: Dense(128) + Output(10) "
      ]
    },
    {
      "cell_type": "code",
      "metadata": {
        "id": "geFXhA13rRTr"
      },
      "source": [
        "# Random number seed\n",
        "np.random.seed(1234)\n",
        "tf.random.set_seed(1234)"
      ],
      "execution_count": 7,
      "outputs": []
    },
    {
      "cell_type": "code",
      "metadata": {
        "id": "-LL0E4UX4Nj-"
      },
      "source": [
        "c1f2 = keras.models.Sequential([ \n",
        "    Conv2D(input_shape=(28,28,1), filters= 32, \n",
        "            kernel_size=(3,3),strides=(1,1),padding='same',activation='relu'),\n",
        "    MaxPool2D(pool_size=(2,2), strides=(2,2)),\n",
        "    Flatten(), \n",
        "    keras.layers.Dense(128, activation='relu'),  \n",
        "    keras.layers.Dropout(0.25), \n",
        "    keras.layers.Dense(10, activation='softmax')\n",
        "])\n",
        "\n",
        "c1f2.compile(optimizer='adam',\n",
        "              loss='categorical_crossentropy',\n",
        "              metrics=['accuracy']) "
      ],
      "execution_count": 13,
      "outputs": []
    },
    {
      "cell_type": "code",
      "metadata": {
        "id": "3r9oCDEN4UGu",
        "colab": {
          "base_uri": "https://localhost:8080/"
        },
        "outputId": "14019011-46b8-456b-b3d2-3354317a2b45"
      },
      "source": [
        "c1f2.summary()"
      ],
      "execution_count": 14,
      "outputs": [
        {
          "output_type": "stream",
          "name": "stdout",
          "text": [
            "Model: \"sequential_1\"\n",
            "_________________________________________________________________\n",
            " Layer (type)                Output Shape              Param #   \n",
            "=================================================================\n",
            " conv2d_1 (Conv2D)           (None, 28, 28, 32)        320       \n",
            "                                                                 \n",
            " max_pooling2d_1 (MaxPooling  (None, 14, 14, 32)       0         \n",
            " 2D)                                                             \n",
            "                                                                 \n",
            " flatten (Flatten)           (None, 6272)              0         \n",
            "                                                                 \n",
            " dense_2 (Dense)             (None, 128)               802944    \n",
            "                                                                 \n",
            " dropout_1 (Dropout)         (None, 128)               0         \n",
            "                                                                 \n",
            " dense_3 (Dense)             (None, 10)                1290      \n",
            "                                                                 \n",
            "=================================================================\n",
            "Total params: 804,554\n",
            "Trainable params: 804,554\n",
            "Non-trainable params: 0\n",
            "_________________________________________________________________\n"
          ]
        }
      ]
    },
    {
      "cell_type": "code",
      "metadata": {
        "colab": {
          "base_uri": "https://localhost:8080/"
        },
        "id": "tdJctGVMI0iu",
        "outputId": "2e2a9683-b1b2-4a61-a471-632b30cc19b0"
      },
      "source": [
        "3*3*32+32"
      ],
      "execution_count": 10,
      "outputs": [
        {
          "output_type": "execute_result",
          "data": {
            "text/plain": [
              "320"
            ]
          },
          "metadata": {},
          "execution_count": 10
        }
      ]
    },
    {
      "cell_type": "code",
      "metadata": {
        "id": "adOv9IzurRTt",
        "colab": {
          "base_uri": "https://localhost:8080/",
          "height": 754
        },
        "outputId": "a1405fee-021e-48a1-8d7a-d0848707eb50"
      },
      "source": [
        "# Plot model\n",
        "from tensorflow.keras.utils import plot_model\n",
        "plot_model(c1f2, show_shapes=True, show_layer_names=True, to_file='model_c1f2.png')"
      ],
      "execution_count": 15,
      "outputs": [
        {
          "output_type": "execute_result",
          "data": {
            "image/png": "[encoded data removed]",
            "text/plain": [
              "<IPython.core.display.Image object>"
            ]
          },
          "metadata": {},
          "execution_count": 15
        }
      ]
    },
    {
      "cell_type": "code",
      "metadata": {
        "id": "E5P-W0384WCv",
        "colab": {
          "base_uri": "https://localhost:8080/"
        },
        "outputId": "5b9f1247-534a-43d8-9e1d-80bea41c4135"
      },
      "source": [
        "c1f2.fit(X_train, y_train, epochs = 20,  batch_size = 100, \n",
        "            validation_data = (X_test, y_test))"
      ],
      "execution_count": 16,
      "outputs": [
        {
          "output_type": "stream",
          "name": "stdout",
          "text": [
            "Epoch 1/20\n",
            "600/600 [==============================] - 35s 9ms/step - loss: 0.2245 - accuracy: 0.9349 - val_loss: 0.0723 - val_accuracy: 0.9771\n",
            "Epoch 2/20\n",
            "600/600 [==============================] - 5s 8ms/step - loss: 0.0749 - accuracy: 0.9777 - val_loss: 0.0513 - val_accuracy: 0.9840\n",
            "Epoch 3/20\n",
            "600/600 [==============================] - 5s 8ms/step - loss: 0.0521 - accuracy: 0.9840 - val_loss: 0.0453 - val_accuracy: 0.9838\n",
            "Epoch 4/20\n",
            "600/600 [==============================] - 5s 8ms/step - loss: 0.0405 - accuracy: 0.9876 - val_loss: 0.0389 - val_accuracy: 0.9868\n",
            "Epoch 5/20\n",
            "600/600 [==============================] - 5s 9ms/step - loss: 0.0313 - accuracy: 0.9898 - val_loss: 0.0375 - val_accuracy: 0.9866\n",
            "Epoch 6/20\n",
            "600/600 [==============================] - 5s 9ms/step - loss: 0.0267 - accuracy: 0.9913 - val_loss: 0.0340 - val_accuracy: 0.9889\n",
            "Epoch 7/20\n",
            "600/600 [==============================] - 5s 8ms/step - loss: 0.0223 - accuracy: 0.9930 - val_loss: 0.0363 - val_accuracy: 0.9877\n",
            "Epoch 8/20\n",
            "600/600 [==============================] - 5s 8ms/step - loss: 0.0183 - accuracy: 0.9940 - val_loss: 0.0404 - val_accuracy: 0.9867\n",
            "Epoch 9/20\n",
            "600/600 [==============================] - 5s 9ms/step - loss: 0.0157 - accuracy: 0.9947 - val_loss: 0.0382 - val_accuracy: 0.9886\n",
            "Epoch 10/20\n",
            "600/600 [==============================] - 5s 8ms/step - loss: 0.0140 - accuracy: 0.9952 - val_loss: 0.0449 - val_accuracy: 0.9863\n",
            "Epoch 11/20\n",
            "600/600 [==============================] - 5s 8ms/step - loss: 0.0132 - accuracy: 0.9953 - val_loss: 0.0387 - val_accuracy: 0.9883\n",
            "Epoch 12/20\n",
            "600/600 [==============================] - 5s 8ms/step - loss: 0.0103 - accuracy: 0.9966 - val_loss: 0.0414 - val_accuracy: 0.9877\n",
            "Epoch 13/20\n",
            "600/600 [==============================] - 5s 9ms/step - loss: 0.0105 - accuracy: 0.9965 - val_loss: 0.0410 - val_accuracy: 0.9879\n",
            "Epoch 14/20\n",
            "600/600 [==============================] - 5s 8ms/step - loss: 0.0088 - accuracy: 0.9971 - val_loss: 0.0418 - val_accuracy: 0.9883\n",
            "Epoch 15/20\n",
            "600/600 [==============================] - 5s 8ms/step - loss: 0.0082 - accuracy: 0.9971 - val_loss: 0.0485 - val_accuracy: 0.9875\n",
            "Epoch 16/20\n",
            "600/600 [==============================] - 5s 8ms/step - loss: 0.0079 - accuracy: 0.9974 - val_loss: 0.0452 - val_accuracy: 0.9882\n",
            "Epoch 17/20\n",
            "600/600 [==============================] - 5s 8ms/step - loss: 0.0077 - accuracy: 0.9972 - val_loss: 0.0491 - val_accuracy: 0.9890\n",
            "Epoch 18/20\n",
            "600/600 [==============================] - 5s 9ms/step - loss: 0.0070 - accuracy: 0.9976 - val_loss: 0.0448 - val_accuracy: 0.9891\n",
            "Epoch 19/20\n",
            "600/600 [==============================] - 5s 8ms/step - loss: 0.0067 - accuracy: 0.9978 - val_loss: 0.0461 - val_accuracy: 0.9886\n",
            "Epoch 20/20\n",
            "600/600 [==============================] - 5s 8ms/step - loss: 0.0064 - accuracy: 0.9978 - val_loss: 0.0529 - val_accuracy: 0.9874\n"
          ]
        },
        {
          "output_type": "execute_result",
          "data": {
            "text/plain": [
              "<keras.callbacks.History at 0x7f982fb86c10>"
            ]
          },
          "metadata": {},
          "execution_count": 16
        }
      ]
    },
    {
      "cell_type": "code",
      "metadata": {
        "id": "JTLIG-8Y4guU",
        "colab": {
          "base_uri": "https://localhost:8080/"
        },
        "outputId": "29e53965-02c2-4316-ed6e-faa9aec6a7de"
      },
      "source": [
        "c1f2.evaluate(X_test, y_test, batch_size = 100)"
      ],
      "execution_count": 17,
      "outputs": [
        {
          "output_type": "stream",
          "name": "stdout",
          "text": [
            "100/100 [==============================] - 0s 5ms/step - loss: 0.0529 - accuracy: 0.9874\n"
          ]
        },
        {
          "output_type": "execute_result",
          "data": {
            "text/plain": [
              "[0.0528523251414299, 0.9873999953269958]"
            ]
          },
          "metadata": {},
          "execution_count": 17
        }
      ]
    },
    {
      "cell_type": "markdown",
      "metadata": {
        "id": "eFI1qi7DhNfL"
      },
      "source": [
        "---"
      ]
    },
    {
      "cell_type": "markdown",
      "metadata": {
        "id": "zYsilPV-d68h"
      },
      "source": [
        "## **CNN1 + FCN3**"
      ]
    },
    {
      "cell_type": "code",
      "metadata": {
        "id": "8XsCNJuVrRTu"
      },
      "source": [
        "# Random number seed\n",
        "np.random.seed(1234)\n",
        "tf.random.set_seed(1234)"
      ],
      "execution_count": 18,
      "outputs": []
    },
    {
      "cell_type": "code",
      "metadata": {
        "id": "ru3C9Fdb5MJ9"
      },
      "source": [
        "c1f3 = tf.keras.models.Sequential([ \n",
        "    Conv2D(input_shape=(28,28,1), filters= 32, \n",
        "            kernel_size=(3,3),strides=(1,1),padding='same',activation='relu'),\n",
        "    MaxPool2D(pool_size=(2,2), strides=(2,2)),\n",
        "    Flatten(), \n",
        "    tf.keras.layers.Dense(256, activation='relu'),  \n",
        "    tf.keras.layers.Dropout(0.25),\n",
        "    tf.keras.layers.Dense(128, activation='relu'),  \n",
        "    tf.keras.layers.Dropout(0.25), \n",
        "    tf.keras.layers.Dense(10, activation='softmax')\n",
        "])\n",
        "\n",
        "c1f3.compile(optimizer='adam',\n",
        "              loss='categorical_crossentropy',\n",
        "              metrics=['accuracy']) "
      ],
      "execution_count": 20,
      "outputs": []
    },
    {
      "cell_type": "code",
      "metadata": {
        "id": "WUKcSnnc5XcD",
        "colab": {
          "base_uri": "https://localhost:8080/"
        },
        "outputId": "e8f23cb7-c190-4921-c3d4-816c8c1890f9"
      },
      "source": [
        "c1f3.summary()"
      ],
      "execution_count": 22,
      "outputs": [
        {
          "output_type": "stream",
          "name": "stdout",
          "text": [
            "Model: \"sequential_2\"\n",
            "_________________________________________________________________\n",
            " Layer (type)                Output Shape              Param #   \n",
            "=================================================================\n",
            " conv2d_2 (Conv2D)           (None, 28, 28, 32)        320       \n",
            "                                                                 \n",
            " max_pooling2d_2 (MaxPooling  (None, 14, 14, 32)       0         \n",
            " 2D)                                                             \n",
            "                                                                 \n",
            " flatten_1 (Flatten)         (None, 6272)              0         \n",
            "                                                                 \n",
            " dense_4 (Dense)             (None, 256)               1605888   \n",
            "                                                                 \n",
            " dropout_2 (Dropout)         (None, 256)               0         \n",
            "                                                                 \n",
            " dense_5 (Dense)             (None, 128)               32896     \n",
            "                                                                 \n",
            " dropout_3 (Dropout)         (None, 128)               0         \n",
            "                                                                 \n",
            " dense_6 (Dense)             (None, 10)                1290      \n",
            "                                                                 \n",
            "=================================================================\n",
            "Total params: 1,640,394\n",
            "Trainable params: 1,640,394\n",
            "Non-trainable params: 0\n",
            "_________________________________________________________________\n"
          ]
        }
      ]
    },
    {
      "cell_type": "code",
      "metadata": {
        "id": "WHnUbwan5Zq7",
        "colab": {
          "base_uri": "https://localhost:8080/"
        },
        "outputId": "3a412525-65cc-4df1-ff37-92f35b55225a"
      },
      "source": [
        "c1f3.fit(X_train,y_train, epochs= 20 , batch_size = 100)"
      ],
      "execution_count": 23,
      "outputs": [
        {
          "output_type": "stream",
          "name": "stdout",
          "text": [
            "Epoch 1/20\n",
            "600/600 [==============================] - 6s 9ms/step - loss: 0.2421 - accuracy: 0.9267\n",
            "Epoch 2/20\n",
            "600/600 [==============================] - 5s 8ms/step - loss: 0.0744 - accuracy: 0.9778\n",
            "Epoch 3/20\n",
            "600/600 [==============================] - 5s 8ms/step - loss: 0.0529 - accuracy: 0.9837\n",
            "Epoch 4/20\n",
            "600/600 [==============================] - 5s 8ms/step - loss: 0.0374 - accuracy: 0.9883\n",
            "Epoch 5/20\n",
            "600/600 [==============================] - 5s 8ms/step - loss: 0.0297 - accuracy: 0.9906\n",
            "Epoch 6/20\n",
            "600/600 [==============================] - 5s 8ms/step - loss: 0.0229 - accuracy: 0.9924\n",
            "Epoch 7/20\n",
            "600/600 [==============================] - 5s 8ms/step - loss: 0.0195 - accuracy: 0.9941\n",
            "Epoch 8/20\n",
            "600/600 [==============================] - 5s 8ms/step - loss: 0.0177 - accuracy: 0.9946\n",
            "Epoch 9/20\n",
            "600/600 [==============================] - 5s 8ms/step - loss: 0.0164 - accuracy: 0.9946\n",
            "Epoch 10/20\n",
            "600/600 [==============================] - 5s 8ms/step - loss: 0.0127 - accuracy: 0.9956\n",
            "Epoch 11/20\n",
            "600/600 [==============================] - 5s 9ms/step - loss: 0.0116 - accuracy: 0.9963\n",
            "Epoch 12/20\n",
            "600/600 [==============================] - 5s 9ms/step - loss: 0.0116 - accuracy: 0.9960\n",
            "Epoch 13/20\n",
            "600/600 [==============================] - 5s 9ms/step - loss: 0.0099 - accuracy: 0.9965\n",
            "Epoch 14/20\n",
            "600/600 [==============================] - 5s 9ms/step - loss: 0.0084 - accuracy: 0.9973\n",
            "Epoch 15/20\n",
            "600/600 [==============================] - 5s 9ms/step - loss: 0.0088 - accuracy: 0.9969\n",
            "Epoch 16/20\n",
            "600/600 [==============================] - 5s 9ms/step - loss: 0.0088 - accuracy: 0.9970\n",
            "Epoch 17/20\n",
            "600/600 [==============================] - 5s 9ms/step - loss: 0.0060 - accuracy: 0.9982\n",
            "Epoch 18/20\n",
            "600/600 [==============================] - 5s 9ms/step - loss: 0.0078 - accuracy: 0.9976\n",
            "Epoch 19/20\n",
            "600/600 [==============================] - 5s 9ms/step - loss: 0.0069 - accuracy: 0.9979\n",
            "Epoch 20/20\n",
            "600/600 [==============================] - 5s 9ms/step - loss: 0.0058 - accuracy: 0.9979\n"
          ]
        },
        {
          "output_type": "execute_result",
          "data": {
            "text/plain": [
              "<keras.callbacks.History at 0x7f98306dc610>"
            ]
          },
          "metadata": {},
          "execution_count": 23
        }
      ]
    },
    {
      "cell_type": "code",
      "metadata": {
        "id": "kTaGJMFG7FbH",
        "colab": {
          "base_uri": "https://localhost:8080/"
        },
        "outputId": "97f83ff7-4f64-41c3-e5df-0b12b08e90c4"
      },
      "source": [
        "c1f3.evaluate(X_test, y_test, batch_size= 100)"
      ],
      "execution_count": 24,
      "outputs": [
        {
          "output_type": "stream",
          "name": "stdout",
          "text": [
            "100/100 [==============================] - 1s 6ms/step - loss: 0.0568 - accuracy: 0.9885\n"
          ]
        },
        {
          "output_type": "execute_result",
          "data": {
            "text/plain": [
              "[0.0567973330616951, 0.9884999990463257]"
            ]
          },
          "metadata": {},
          "execution_count": 24
        }
      ]
    },
    {
      "cell_type": "markdown",
      "metadata": {
        "id": "7Z6DJJUCei-s"
      },
      "source": [
        "## **CNN2 + FCN2**"
      ]
    },
    {
      "cell_type": "code",
      "metadata": {
        "id": "t1Xx45zNrRTv"
      },
      "source": [
        "# Random number seed\n",
        "np.random.seed(1234)\n",
        "tf.random.set_seed(1234)"
      ],
      "execution_count": 46,
      "outputs": []
    },
    {
      "cell_type": "code",
      "metadata": {
        "id": "pV3NFglM7P65"
      },
      "source": [
        "c2f2 = tf.keras.models.Sequential([ \n",
        "    Conv2D(input_shape=(28,28,1), filters= 64, \n",
        "            kernel_size=(3,3),strides=(1,1),padding='same',activation='relu'),\n",
        "    MaxPool2D(pool_size=(2,2), strides=(2,2)),\n",
        "    Conv2D(filters= 32, \n",
        "            kernel_size=(3,3),strides=(1,1),padding='same',activation='relu'),\n",
        "    MaxPool2D(pool_size=(2,2), strides=(2,2)),\n",
        "    Flatten(), \n",
        "    tf.keras.layers.Dense(128, activation='relu'),  \n",
        "    tf.keras.layers.Dropout(0.25),\n",
        "    tf.keras.layers.Dense(10, activation='softmax')\n",
        "])\n",
        "\n",
        "c2f2.compile(optimizer='adam',\n",
        "              loss='categorical_crossentropy',\n",
        "              metrics=['accuracy']) "
      ],
      "execution_count": 47,
      "outputs": []
    },
    {
      "cell_type": "code",
      "metadata": {
        "id": "OGtCiKy57YkR",
        "colab": {
          "base_uri": "https://localhost:8080/"
        },
        "outputId": "ed239a08-05c0-40f9-e559-314b513bb1c8"
      },
      "source": [
        "c2f2.summary()"
      ],
      "execution_count": 29,
      "outputs": [
        {
          "output_type": "stream",
          "name": "stdout",
          "text": [
            "Model: \"sequential_4\"\n",
            "_________________________________________________________________\n",
            " Layer (type)                Output Shape              Param #   \n",
            "=================================================================\n",
            " conv2d_5 (Conv2D)           (None, 28, 28, 64)        640       \n",
            "                                                                 \n",
            " max_pooling2d_5 (MaxPooling  (None, 14, 14, 64)       0         \n",
            " 2D)                                                             \n",
            "                                                                 \n",
            " conv2d_6 (Conv2D)           (None, 14, 14, 32)        18464     \n",
            "                                                                 \n",
            " max_pooling2d_6 (MaxPooling  (None, 7, 7, 32)         0         \n",
            " 2D)                                                             \n",
            "                                                                 \n",
            " flatten_3 (Flatten)         (None, 1568)              0         \n",
            "                                                                 \n",
            " dense_9 (Dense)             (None, 128)               200832    \n",
            "                                                                 \n",
            " dropout_5 (Dropout)         (None, 128)               0         \n",
            "                                                                 \n",
            " dense_10 (Dense)            (None, 10)                1290      \n",
            "                                                                 \n",
            "=================================================================\n",
            "Total params: 221,226\n",
            "Trainable params: 221,226\n",
            "Non-trainable params: 0\n",
            "_________________________________________________________________\n"
          ]
        }
      ]
    },
    {
      "cell_type": "code",
      "metadata": {
        "id": "94GWWQt-7eRS",
        "colab": {
          "base_uri": "https://localhost:8080/"
        },
        "outputId": "d887c6ff-8f39-463b-dc12-2867fbce3662"
      },
      "source": [
        "c2f2.fit(X_train, y_train, epochs = 20 , batch_size = 100)"
      ],
      "execution_count": 28,
      "outputs": [
        {
          "output_type": "stream",
          "name": "stdout",
          "text": [
            "Epoch 1/20\n",
            "600/600 [==============================] - 7s 10ms/step - loss: 0.2206 - accuracy: 0.9328\n",
            "Epoch 2/20\n",
            "600/600 [==============================] - 6s 10ms/step - loss: 0.0657 - accuracy: 0.9801\n",
            "Epoch 3/20\n",
            "600/600 [==============================] - 6s 10ms/step - loss: 0.0462 - accuracy: 0.9860\n",
            "Epoch 4/20\n",
            "600/600 [==============================] - 6s 10ms/step - loss: 0.0371 - accuracy: 0.9886\n",
            "Epoch 5/20\n",
            "600/600 [==============================] - 6s 9ms/step - loss: 0.0297 - accuracy: 0.9902\n",
            "Epoch 6/20\n",
            "600/600 [==============================] - 6s 9ms/step - loss: 0.0262 - accuracy: 0.9919\n",
            "Epoch 7/20\n",
            "600/600 [==============================] - 6s 10ms/step - loss: 0.0226 - accuracy: 0.9930\n",
            "Epoch 8/20\n",
            "600/600 [==============================] - 6s 9ms/step - loss: 0.0178 - accuracy: 0.9943\n",
            "Epoch 9/20\n",
            "600/600 [==============================] - 6s 9ms/step - loss: 0.0165 - accuracy: 0.9946\n",
            "Epoch 10/20\n",
            "600/600 [==============================] - 6s 9ms/step - loss: 0.0148 - accuracy: 0.9952\n",
            "Epoch 11/20\n",
            "600/600 [==============================] - 6s 9ms/step - loss: 0.0131 - accuracy: 0.9956\n",
            "Epoch 12/20\n",
            "600/600 [==============================] - 6s 9ms/step - loss: 0.0114 - accuracy: 0.9962\n",
            "Epoch 13/20\n",
            "600/600 [==============================] - 6s 9ms/step - loss: 0.0117 - accuracy: 0.9962\n",
            "Epoch 14/20\n",
            "600/600 [==============================] - 6s 9ms/step - loss: 0.0105 - accuracy: 0.9962\n",
            "Epoch 15/20\n",
            "600/600 [==============================] - 6s 9ms/step - loss: 0.0089 - accuracy: 0.9969\n",
            "Epoch 16/20\n",
            "600/600 [==============================] - 6s 9ms/step - loss: 0.0085 - accuracy: 0.9969\n",
            "Epoch 17/20\n",
            "600/600 [==============================] - 6s 9ms/step - loss: 0.0088 - accuracy: 0.9967\n",
            "Epoch 18/20\n",
            "600/600 [==============================] - 6s 9ms/step - loss: 0.0076 - accuracy: 0.9974\n",
            "Epoch 19/20\n",
            "600/600 [==============================] - 6s 9ms/step - loss: 0.0070 - accuracy: 0.9975\n",
            "Epoch 20/20\n",
            "600/600 [==============================] - 6s 9ms/step - loss: 0.0072 - accuracy: 0.9977\n"
          ]
        },
        {
          "output_type": "execute_result",
          "data": {
            "text/plain": [
              "<keras.callbacks.History at 0x7f98303b1050>"
            ]
          },
          "metadata": {},
          "execution_count": 28
        }
      ]
    },
    {
      "cell_type": "code",
      "metadata": {
        "id": "0-7is2U49A6Z",
        "colab": {
          "base_uri": "https://localhost:8080/"
        },
        "outputId": "cb2975fb-0348-4867-f210-eb341524d730"
      },
      "source": [
        "c2f2.evaluate(X_test, y_test, batch_size = 100)"
      ],
      "execution_count": 30,
      "outputs": [
        {
          "output_type": "stream",
          "name": "stdout",
          "text": [
            "100/100 [==============================] - 1s 6ms/step - loss: 0.0305 - accuracy: 0.9927\n"
          ]
        },
        {
          "output_type": "execute_result",
          "data": {
            "text/plain": [
              "[0.03049168735742569, 0.9926999807357788]"
            ]
          },
          "metadata": {},
          "execution_count": 30
        }
      ]
    },
    {
      "cell_type": "markdown",
      "metadata": {
        "id": "SUJxRQtafihM"
      },
      "source": [
        "## **CNN2 + FCN3**"
      ]
    },
    {
      "cell_type": "code",
      "metadata": {
        "id": "PXuHAj85rRTw"
      },
      "source": [
        "# Random number seed\n",
        "np.random.seed(1234)\n",
        "tf.random.set_seed(1234)"
      ],
      "execution_count": 31,
      "outputs": []
    },
    {
      "cell_type": "code",
      "metadata": {
        "id": "Nl5CyAymAB34"
      },
      "source": [
        "c2f3 = tf.keras.models.Sequential([ \n",
        "   Conv2D(input_shape=(28,28,1), filters= 64, \n",
        "            kernel_size=(3,3),strides=(1,1),padding='same',activation='relu'),\n",
        "    MaxPool2D(pool_size=(2,2), strides=(2,2)),\n",
        "    Conv2D(filters= 32, \n",
        "            kernel_size=(3,3),strides=(1,1),padding='same',activation='relu'),\n",
        "    MaxPool2D(pool_size=(2,2), strides=(2,2)),\n",
        "    Flatten(), \n",
        "    tf.keras.layers.Dense(128, activation='relu'),  \n",
        "    tf.keras.layers.Dropout(0.25),\n",
        "    tf.keras.layers.Dense(64, activation='relu'),  \n",
        "    tf.keras.layers.Dropout(0.25),\n",
        "    tf.keras.layers.Dense(10, activation='softmax')\n",
        "])\n",
        "\n",
        "c2f3.compile(optimizer='adam',\n",
        "              loss='categorical_crossentropy',\n",
        "              metrics=['accuracy']) "
      ],
      "execution_count": 32,
      "outputs": []
    },
    {
      "cell_type": "code",
      "metadata": {
        "id": "gYxuGW_2ANL8",
        "colab": {
          "base_uri": "https://localhost:8080/"
        },
        "outputId": "f0a3871e-af5b-4b10-b26f-b6a27ba7e68d"
      },
      "source": [
        "c2f3.summary()"
      ],
      "execution_count": 33,
      "outputs": [
        {
          "output_type": "stream",
          "name": "stdout",
          "text": [
            "Model: \"sequential_5\"\n",
            "_________________________________________________________________\n",
            " Layer (type)                Output Shape              Param #   \n",
            "=================================================================\n",
            " conv2d_7 (Conv2D)           (None, 28, 28, 64)        640       \n",
            "                                                                 \n",
            " max_pooling2d_7 (MaxPooling  (None, 14, 14, 64)       0         \n",
            " 2D)                                                             \n",
            "                                                                 \n",
            " conv2d_8 (Conv2D)           (None, 14, 14, 32)        18464     \n",
            "                                                                 \n",
            " max_pooling2d_8 (MaxPooling  (None, 7, 7, 32)         0         \n",
            " 2D)                                                             \n",
            "                                                                 \n",
            " flatten_4 (Flatten)         (None, 1568)              0         \n",
            "                                                                 \n",
            " dense_11 (Dense)            (None, 128)               200832    \n",
            "                                                                 \n",
            " dropout_6 (Dropout)         (None, 128)               0         \n",
            "                                                                 \n",
            " dense_12 (Dense)            (None, 64)                8256      \n",
            "                                                                 \n",
            " dropout_7 (Dropout)         (None, 64)                0         \n",
            "                                                                 \n",
            " dense_13 (Dense)            (None, 10)                650       \n",
            "                                                                 \n",
            "=================================================================\n",
            "Total params: 228,842\n",
            "Trainable params: 228,842\n",
            "Non-trainable params: 0\n",
            "_________________________________________________________________\n"
          ]
        }
      ]
    },
    {
      "cell_type": "code",
      "metadata": {
        "id": "lO1of4AOAQlV",
        "colab": {
          "base_uri": "https://localhost:8080/"
        },
        "outputId": "8f5f27d0-dee8-4545-b125-f1e48d3bd05a"
      },
      "source": [
        "c2f3.fit(X_train, y_train, epochs=20, batch_size = 100)"
      ],
      "execution_count": 34,
      "outputs": [
        {
          "output_type": "stream",
          "name": "stdout",
          "text": [
            "Epoch 1/20\n",
            "600/600 [==============================] - 7s 10ms/step - loss: 0.3014 - accuracy: 0.9072\n",
            "Epoch 2/20\n",
            "600/600 [==============================] - 6s 10ms/step - loss: 0.0897 - accuracy: 0.9740\n",
            "Epoch 3/20\n",
            "600/600 [==============================] - 6s 10ms/step - loss: 0.0623 - accuracy: 0.9822\n",
            "Epoch 4/20\n",
            "600/600 [==============================] - 6s 10ms/step - loss: 0.0504 - accuracy: 0.9853\n",
            "Epoch 5/20\n",
            "600/600 [==============================] - 6s 10ms/step - loss: 0.0419 - accuracy: 0.9874\n",
            "Epoch 6/20\n",
            "600/600 [==============================] - 6s 10ms/step - loss: 0.0336 - accuracy: 0.9905\n",
            "Epoch 7/20\n",
            "600/600 [==============================] - 6s 10ms/step - loss: 0.0314 - accuracy: 0.9907\n",
            "Epoch 8/20\n",
            "600/600 [==============================] - 6s 10ms/step - loss: 0.0254 - accuracy: 0.9919\n",
            "Epoch 9/20\n",
            "600/600 [==============================] - 6s 10ms/step - loss: 0.0223 - accuracy: 0.9932\n",
            "Epoch 10/20\n",
            "600/600 [==============================] - 6s 10ms/step - loss: 0.0224 - accuracy: 0.9936\n",
            "Epoch 11/20\n",
            "600/600 [==============================] - 6s 10ms/step - loss: 0.0191 - accuracy: 0.9941\n",
            "Epoch 12/20\n",
            "600/600 [==============================] - 6s 10ms/step - loss: 0.0172 - accuracy: 0.9947\n",
            "Epoch 13/20\n",
            "600/600 [==============================] - 6s 10ms/step - loss: 0.0163 - accuracy: 0.9951\n",
            "Epoch 14/20\n",
            "600/600 [==============================] - 6s 10ms/step - loss: 0.0159 - accuracy: 0.9949\n",
            "Epoch 15/20\n",
            "600/600 [==============================] - 6s 10ms/step - loss: 0.0138 - accuracy: 0.9957\n",
            "Epoch 16/20\n",
            "600/600 [==============================] - 6s 10ms/step - loss: 0.0123 - accuracy: 0.9963\n",
            "Epoch 17/20\n",
            "600/600 [==============================] - 6s 10ms/step - loss: 0.0128 - accuracy: 0.9959\n",
            "Epoch 18/20\n",
            "600/600 [==============================] - 6s 10ms/step - loss: 0.0124 - accuracy: 0.9962\n",
            "Epoch 19/20\n",
            "600/600 [==============================] - 6s 10ms/step - loss: 0.0110 - accuracy: 0.9967\n",
            "Epoch 20/20\n",
            "600/600 [==============================] - 6s 10ms/step - loss: 0.0107 - accuracy: 0.9968\n"
          ]
        },
        {
          "output_type": "execute_result",
          "data": {
            "text/plain": [
              "<keras.callbacks.History at 0x7f98302580d0>"
            ]
          },
          "metadata": {},
          "execution_count": 34
        }
      ]
    },
    {
      "cell_type": "code",
      "metadata": {
        "id": "W-eIxCasDBil",
        "colab": {
          "base_uri": "https://localhost:8080/"
        },
        "outputId": "f232aecb-23f8-4352-d3bd-eef5acb68d46"
      },
      "source": [
        "c2f3.evaluate(X_test, y_test, batch_size = 100)"
      ],
      "execution_count": 35,
      "outputs": [
        {
          "output_type": "stream",
          "name": "stdout",
          "text": [
            "100/100 [==============================] - 1s 6ms/step - loss: 0.0299 - accuracy: 0.9917\n"
          ]
        },
        {
          "output_type": "execute_result",
          "data": {
            "text/plain": [
              "[0.029868358746170998, 0.9916999936103821]"
            ]
          },
          "metadata": {},
          "execution_count": 35
        }
      ]
    },
    {
      "cell_type": "markdown",
      "metadata": {
        "id": "5XYSVtC-DVsz"
      },
      "source": [
        "# **[DIY] Hidden layer에 따른 정확도**"
      ]
    },
    {
      "cell_type": "code",
      "metadata": {
        "colab": {
          "base_uri": "https://localhost:8080/"
        },
        "id": "CWdRaKZqRuTI",
        "outputId": "b25aac11-689c-4c95-ca88-08a0bd59e45b"
      },
      "source": [
        "c1f3.evaluate(X_test, y_test, batch_size = 100)"
      ],
      "execution_count": 36,
      "outputs": [
        {
          "output_type": "stream",
          "name": "stdout",
          "text": [
            "100/100 [==============================] - 1s 5ms/step - loss: 0.0568 - accuracy: 0.9885\n"
          ]
        },
        {
          "output_type": "execute_result",
          "data": {
            "text/plain": [
              "[0.0567973330616951, 0.9884999990463257]"
            ]
          },
          "metadata": {},
          "execution_count": 36
        }
      ]
    },
    {
      "cell_type": "code",
      "metadata": {
        "colab": {
          "base_uri": "https://localhost:8080/"
        },
        "id": "-tl6oCstR64e",
        "outputId": "9a061930-2e08-4ebe-f4ee-4766bef32569"
      },
      "source": [
        "c1f2.evaluate(X_test, y_test, batch_size = 100)"
      ],
      "execution_count": 37,
      "outputs": [
        {
          "output_type": "stream",
          "name": "stdout",
          "text": [
            "100/100 [==============================] - 1s 5ms/step - loss: 0.0529 - accuracy: 0.9874\n"
          ]
        },
        {
          "output_type": "execute_result",
          "data": {
            "text/plain": [
              "[0.0528523251414299, 0.9873999953269958]"
            ]
          },
          "metadata": {},
          "execution_count": 37
        }
      ]
    },
    {
      "cell_type": "code",
      "metadata": {
        "id": "hPXHL7TTgIMf"
      },
      "source": [
        "# Try another method!!\n",
        "fcn_result = [[0.0528523251414299, 0.9873999953269958], \n",
        " [0.0567973330616951, 0.9884999990463257], \n",
        " [0.03049168735742569, 0.9926999807357788], \n",
        " [0.029868358746170998, 0.9916999936103821]]"
      ],
      "execution_count": 38,
      "outputs": []
    },
    {
      "cell_type": "code",
      "metadata": {
        "id": "1kXd2NWlLmyZ",
        "colab": {
          "base_uri": "https://localhost:8080/"
        },
        "outputId": "635b939c-8afd-4b2f-dd09-7ed61e24a424"
      },
      "source": [
        "# select accuracies\n",
        "accuracy = [row[1] for row in fcn_result]\n",
        "accuracy"
      ],
      "execution_count": 39,
      "outputs": [
        {
          "output_type": "execute_result",
          "data": {
            "text/plain": [
              "[0.9873999953269958,\n",
              " 0.9884999990463257,\n",
              " 0.9926999807357788,\n",
              " 0.9916999936103821]"
            ]
          },
          "metadata": {},
          "execution_count": 39
        }
      ]
    },
    {
      "cell_type": "code",
      "metadata": {
        "id": "vZv6a2aVRw9j",
        "colab": {
          "base_uri": "https://localhost:8080/",
          "height": 269
        },
        "outputId": "fc7584bd-aab9-4163-f5f1-9291780ce333"
      },
      "source": [
        "x = np.arange(4)\n",
        "cnns = ['c1f2','c1f3','c2f2','c2f3']\n",
        "accuracies = [acc*100 for acc in accuracy] # %\n",
        "\n",
        "plt.bar(x, accuracies)\n",
        "plt.xticks(x, cnns)\n",
        "plt.ylim((95,100))\n",
        "plt.show()"
      ],
      "execution_count": 41,
      "outputs": [
        {
          "output_type": "display_data",
          "data": {
            "image/png": "[encoded data removed]",
            "text/plain": [
              "<Figure size 432x288 with 1 Axes>"
            ]
          },
          "metadata": {
            "needs_background": "light"
          }
        }
      ]
    },
    {
      "cell_type": "markdown",
      "metadata": {
        "id": "gBPKMI4y3fsa"
      },
      "source": [
        "## 모형의 저장\n",
        "\n",
        "- 트레이닝이 끝난 모형은 save 메서드로 가중치와 함께 hdf5 형식으로 저장\n",
        "- load 명령으로 불러 사용"
      ]
    },
    {
      "cell_type": "code",
      "metadata": {
        "id": "KCfbQl2v3fsa"
      },
      "source": [
        "c2f2.save('c2f2_best.hdf5')"
      ],
      "execution_count": 42,
      "outputs": []
    },
    {
      "cell_type": "code",
      "metadata": {
        "id": "b7-ysIVy3fse",
        "colab": {
          "base_uri": "https://localhost:8080/"
        },
        "outputId": "2f4d4ebc-9ab7-4181-8eeb-49fed2a3834f"
      },
      "source": [
        "from keras.models import load_model\n",
        "\n",
        "model = load_model('c2f2_best.hdf5')\n",
        "model.evaluate(X_test, y_test, batch_size=100)"
      ],
      "execution_count": 44,
      "outputs": [
        {
          "output_type": "stream",
          "name": "stdout",
          "text": [
            "100/100 [==============================] - 1s 7ms/step - loss: 0.0305 - accuracy: 0.9927\n"
          ]
        },
        {
          "output_type": "execute_result",
          "data": {
            "text/plain": [
              "[0.03049168735742569, 0.9926999807357788]"
            ]
          },
          "metadata": {},
          "execution_count": 44
        }
      ]
    },
    {
      "cell_type": "markdown",
      "metadata": {
        "id": "jRG6VlWiMDee"
      },
      "source": [
        "## C2F2 모델에 대한 loss, accuracy 그래프를 그리시오."
      ]
    },
    {
      "cell_type": "code",
      "metadata": {
        "id": "-Yfqv2AqtUtz",
        "colab": {
          "base_uri": "https://localhost:8080/"
        },
        "outputId": "37775f17-c143-4e0d-d296-37500cf538d0"
      },
      "source": [
        "hist = c2f2.fit(X_train, y_train, \n",
        "         epochs = 20 , \n",
        "         batch_size =100, \n",
        "         validation_data=(X_test,y_test))"
      ],
      "execution_count": 48,
      "outputs": [
        {
          "output_type": "stream",
          "name": "stdout",
          "text": [
            "Epoch 1/20\n",
            "600/600 [==============================] - 8s 12ms/step - loss: 0.2207 - accuracy: 0.9326 - val_loss: 0.0504 - val_accuracy: 0.9842\n",
            "Epoch 2/20\n",
            "600/600 [==============================] - 6s 11ms/step - loss: 0.0664 - accuracy: 0.9796 - val_loss: 0.0347 - val_accuracy: 0.9887\n",
            "Epoch 3/20\n",
            "600/600 [==============================] - 6s 10ms/step - loss: 0.0457 - accuracy: 0.9864 - val_loss: 0.0321 - val_accuracy: 0.9902\n",
            "Epoch 4/20\n",
            "600/600 [==============================] - 6s 10ms/step - loss: 0.0362 - accuracy: 0.9887 - val_loss: 0.0281 - val_accuracy: 0.9901\n",
            "Epoch 5/20\n",
            "600/600 [==============================] - 6s 10ms/step - loss: 0.0297 - accuracy: 0.9904 - val_loss: 0.0258 - val_accuracy: 0.9919\n",
            "Epoch 6/20\n",
            "600/600 [==============================] - 6s 10ms/step - loss: 0.0258 - accuracy: 0.9916 - val_loss: 0.0231 - val_accuracy: 0.9921\n",
            "Epoch 7/20\n",
            "600/600 [==============================] - 6s 10ms/step - loss: 0.0221 - accuracy: 0.9931 - val_loss: 0.0249 - val_accuracy: 0.9924\n",
            "Epoch 8/20\n",
            "600/600 [==============================] - 6s 10ms/step - loss: 0.0181 - accuracy: 0.9941 - val_loss: 0.0257 - val_accuracy: 0.9920\n",
            "Epoch 9/20\n",
            "600/600 [==============================] - 6s 10ms/step - loss: 0.0169 - accuracy: 0.9944 - val_loss: 0.0250 - val_accuracy: 0.9921\n",
            "Epoch 10/20\n",
            "600/600 [==============================] - 6s 10ms/step - loss: 0.0140 - accuracy: 0.9952 - val_loss: 0.0243 - val_accuracy: 0.9921\n",
            "Epoch 11/20\n",
            "600/600 [==============================] - 6s 10ms/step - loss: 0.0126 - accuracy: 0.9959 - val_loss: 0.0293 - val_accuracy: 0.9917\n",
            "Epoch 12/20\n",
            "600/600 [==============================] - 6s 10ms/step - loss: 0.0114 - accuracy: 0.9962 - val_loss: 0.0249 - val_accuracy: 0.9931\n",
            "Epoch 13/20\n",
            "600/600 [==============================] - 6s 10ms/step - loss: 0.0107 - accuracy: 0.9965 - val_loss: 0.0289 - val_accuracy: 0.9923\n",
            "Epoch 14/20\n",
            "600/600 [==============================] - 6s 10ms/step - loss: 0.0114 - accuracy: 0.9959 - val_loss: 0.0240 - val_accuracy: 0.9928\n",
            "Epoch 15/20\n",
            "600/600 [==============================] - 6s 10ms/step - loss: 0.0087 - accuracy: 0.9972 - val_loss: 0.0297 - val_accuracy: 0.9926\n",
            "Epoch 16/20\n",
            "600/600 [==============================] - 6s 10ms/step - loss: 0.0089 - accuracy: 0.9967 - val_loss: 0.0334 - val_accuracy: 0.9916\n",
            "Epoch 17/20\n",
            "600/600 [==============================] - 6s 11ms/step - loss: 0.0077 - accuracy: 0.9973 - val_loss: 0.0317 - val_accuracy: 0.9915\n",
            "Epoch 18/20\n",
            "600/600 [==============================] - 6s 10ms/step - loss: 0.0071 - accuracy: 0.9973 - val_loss: 0.0308 - val_accuracy: 0.9927\n",
            "Epoch 19/20\n",
            "600/600 [==============================] - 6s 10ms/step - loss: 0.0070 - accuracy: 0.9977 - val_loss: 0.0294 - val_accuracy: 0.9919\n",
            "Epoch 20/20\n",
            "600/600 [==============================] - 6s 10ms/step - loss: 0.0074 - accuracy: 0.9976 - val_loss: 0.0289 - val_accuracy: 0.9924\n"
          ]
        }
      ]
    },
    {
      "cell_type": "code",
      "metadata": {
        "id": "D1on4CdjrQ_T",
        "colab": {
          "base_uri": "https://localhost:8080/",
          "height": 313
        },
        "outputId": "1851ae7f-f812-45d0-da65-9398548fdf84"
      },
      "source": [
        "# Plot loass and accuracy\n",
        "# Plot training & validation accuracy values\n",
        "epochs = 20\n",
        "loss_list = [100 * i for i in hist.history['loss']]\n",
        "acc_list = [100 * i for i in hist.history['accuracy']]\n",
        "plt.plot(range(1,epochs+1),loss_list) \n",
        "plt.plot(range(1,epochs+1),acc_list) \n",
        "plt.title('Model loss & accuracy')\n",
        "plt.ylabel('Accuracy (%)')\n",
        "plt.xlabel('Epoch')\n",
        "plt.legend(['loss', 'accuracy'], loc='center left')"
      ],
      "execution_count": 49,
      "outputs": [
        {
          "output_type": "execute_result",
          "data": {
            "text/plain": [
              "<matplotlib.legend.Legend at 0x7f9830d58e10>"
            ]
          },
          "metadata": {},
          "execution_count": 49
        },
        {
          "output_type": "display_data",
          "data": {
            "image/png": "[encoded data removed]",
            "text/plain": [
              "<Figure size 432x288 with 1 Axes>"
            ]
          },
          "metadata": {
            "needs_background": "light"
          }
        }
      ]
    },
    {
      "cell_type": "code",
      "metadata": {
        "id": "TX5Uzro4vjaY",
        "colab": {
          "base_uri": "https://localhost:8080/",
          "height": 313
        },
        "outputId": "d597974b-b26e-4513-96d9-80196bc33b36"
      },
      "source": [
        "vloss_list = [100 * i for i in hist.history['val_loss']]\n",
        "vacc_list = [100 * i for i in hist.history['val_accuracy']]\n",
        "plt.plot(range(1,epochs+1),vloss_list)  \n",
        "plt.plot(range(1,epochs+1),vacc_list)  \n",
        "plt.title('Model val_loss & val_accuracy')\n",
        "plt.ylabel('Accuracy (%)')\n",
        "plt.xlabel('Epoch')\n",
        "plt.legend(['val_loss', 'val_accuracy'], loc='center left')"
      ],
      "execution_count": 51,
      "outputs": [
        {
          "output_type": "execute_result",
          "data": {
            "text/plain": [
              "<matplotlib.legend.Legend at 0x7f98316c4cd0>"
            ]
          },
          "metadata": {},
          "execution_count": 51
        },
        {
          "output_type": "display_data",
          "data": {
            "image/png": "[encoded data removed]",
            "text/plain": [
              "<Figure size 432x288 with 1 Axes>"
            ]
          },
          "metadata": {
            "needs_background": "light"
          }
        }
      ]
    },
    {
      "cell_type": "code",
      "metadata": {
        "id": "blALTNdyvjVK",
        "colab": {
          "base_uri": "https://localhost:8080/",
          "height": 313
        },
        "outputId": "5d9988c7-4eca-4266-b723-d1f2e364ae27"
      },
      "source": [
        "plt.plot(range(1,epochs+1),acc_list)  \n",
        "plt.plot(range(1,epochs+1),vacc_list)  \n",
        "plt.title('accuracy vs. val_accuracy')\n",
        "plt.ylabel('Accuracy (%)')\n",
        "plt.xlabel('Epoch')\n",
        "plt.legend(['accuracy','val_accuracy'], loc='center')"
      ],
      "execution_count": 52,
      "outputs": [
        {
          "output_type": "execute_result",
          "data": {
            "text/plain": [
              "<matplotlib.legend.Legend at 0x7f98315fe790>"
            ]
          },
          "metadata": {},
          "execution_count": 52
        },
        {
          "output_type": "display_data",
          "data": {
            "image/png": "[encoded data removed]",
            "text/plain": [
              "<Figure size 432x288 with 1 Axes>"
            ]
          },
          "metadata": {
            "needs_background": "light"
          }
        }
      ]
    },
    {
      "cell_type": "markdown",
      "metadata": {
        "id": "PjiTXAO1MKkE"
      },
      "source": [
        "***"
      ]
    },
    {
      "cell_type": "markdown",
      "metadata": {
        "id": "Ucj-avjHMPLy"
      },
      "source": [
        "## [DIY] C2F3 모델에 대한 loss, accuracy 그래프를 추가하시오."
      ]
    },
    {
      "cell_type": "code",
      "metadata": {
        "id": "WNmXXLhvWUiK"
      },
      "source": [
        "# Code here!"
      ],
      "execution_count": null,
      "outputs": []
    }
  ]
}